{
 "cells": [
  {
   "cell_type": "markdown",
   "metadata": {},
   "source": [
    "# OOP 2020"
   ]
  },
  {
   "cell_type": "markdown",
   "metadata": {},
   "source": [
    "## 8. QT - State Machine"
   ]
  },
  {
   "cell_type": "markdown",
   "metadata": {},
   "source": [
    "#### Links"
   ]
  },
  {
   "cell_type": "markdown",
   "metadata": {},
   "source": [
    "- [The State Machine Framework](https://doc.qt.io/archives/qt-4.8/statemachine-api.html)\n",
    "- [State Diagram](https://plantuml.com/state-diagram)"
   ]
  },
  {
   "cell_type": "markdown",
   "metadata": {},
   "source": [
    "#### Tasks"
   ]
  },
  {
   "cell_type": "markdown",
   "metadata": {},
   "source": [
    "1. Implement the state machine from the below UML diagram\n",
    "2. Record a presentation of working application which includes:\n",
    "  - clean repository cheeckut\n",
    "  - starting this notebook, compiling and running the application\n",
    "  - using the editor"
   ]
  },
  {
   "cell_type": "markdown",
   "metadata": {},
   "source": [
    "#### UML"
   ]
  },
  {
   "cell_type": "code",
   "execution_count": 2,
   "metadata": {},
   "outputs": [],
   "source": [
    "import iplantuml"
   ]
  },
  {
   "cell_type": "code",
   "execution_count": 3,
   "metadata": {},
   "outputs": [
    {
     "data": {
      "image/svg+xml": [
       "<svg xmlns=\"http://www.w3.org/2000/svg\" xmlns:xlink=\"http://www.w3.org/1999/xlink\" contentScriptType=\"application/ecmascript\" contentStyleType=\"text/css\" height=\"811px\" preserveAspectRatio=\"none\" style=\"width:1188px;height:811px;\" version=\"1.1\" viewBox=\"0 0 1188 811\" width=\"1188px\" zoomAndPan=\"magnify\"><defs><filter height=\"300%\" id=\"fgmtr1i6djhx8\" width=\"300%\" x=\"-1\" y=\"-1\"><feGaussianBlur result=\"blurOut\" stdDeviation=\"2.0\"/><feColorMatrix in=\"blurOut\" result=\"blurOut2\" type=\"matrix\" values=\"0 0 0 0 0 0 0 0 0 0 0 0 0 0 0 0 0 0 .4 0\"/><feOffset dx=\"4.0\" dy=\"4.0\" in=\"blurOut2\" result=\"blurOut3\"/><feBlend in=\"SourceGraphic\" in2=\"blurOut3\" mode=\"normal\"/></filter></defs><g><ellipse cx=\"592\" cy=\"16\" fill=\"#000000\" filter=\"url(#fgmtr1i6djhx8)\" rx=\"10\" ry=\"10\" style=\"stroke:none;stroke-width:1.0;\"/><g id=\"Locked\"><rect fill=\"#FEFECE\" filter=\"url(#fgmtr1i6djhx8)\" height=\"92.1719\" rx=\"12.5\" ry=\"12.5\" style=\"stroke:#A80036;stroke-width:1.5;\" width=\"170\" x=\"352\" y=\"705\"/><line style=\"stroke:#A80036;stroke-width:1.5;\" x1=\"352\" x2=\"522\" y1=\"731.2969\" y2=\"731.2969\"/><text fill=\"#000000\" font-family=\"sans-serif\" font-size=\"14\" lengthAdjust=\"spacing\" textLength=\"52\" x=\"411\" y=\"722.9951\">Locked</text><text fill=\"#000000\" font-family=\"sans-serif\" font-size=\"12\" font-weight=\"bold\" lengthAdjust=\"spacing\" textLength=\"68\" x=\"357\" y=\"747.4355\">pbToggle</text><text fill=\"#000000\" font-family=\"sans-serif\" font-size=\"12\" lengthAdjust=\"spacing\" textLength=\"23\" x=\"429\" y=\"747.4355\">text</text><text fill=\"#000000\" font-family=\"sans-serif\" font-size=\"12\" font-weight=\"bold\" lengthAdjust=\"spacing\" textLength=\"47\" x=\"456\" y=\"747.4355\">Unlock</text><text fill=\"#000000\" font-family=\"sans-serif\" font-size=\"12\" font-weight=\"bold\" lengthAdjust=\"spacing\" textLength=\"56\" x=\"357\" y=\"761.4043\">pbOpen</text><text fill=\"#000000\" font-family=\"sans-serif\" font-size=\"12\" lengthAdjust=\"spacing\" textLength=\"49\" x=\"417\" y=\"761.4043\">enabled</text><text fill=\"#000000\" font-family=\"sans-serif\" font-size=\"12\" font-weight=\"bold\" lengthAdjust=\"spacing\" textLength=\"37\" x=\"470\" y=\"761.4043\">false</text><text fill=\"#000000\" font-family=\"sans-serif\" font-size=\"12\" font-weight=\"bold\" lengthAdjust=\"spacing\" textLength=\"53\" x=\"357\" y=\"775.373\">pbSave</text><text fill=\"#000000\" font-family=\"sans-serif\" font-size=\"12\" lengthAdjust=\"spacing\" textLength=\"49\" x=\"414\" y=\"775.373\">enabled</text><text fill=\"#000000\" font-family=\"sans-serif\" font-size=\"12\" font-weight=\"bold\" lengthAdjust=\"spacing\" textLength=\"37\" x=\"467\" y=\"775.373\">false</text><text fill=\"#000000\" font-family=\"sans-serif\" font-size=\"12\" font-weight=\"bold\" lengthAdjust=\"spacing\" textLength=\"50\" x=\"357\" y=\"789.3418\">teText</text><text fill=\"#000000\" font-family=\"sans-serif\" font-size=\"12\" lengthAdjust=\"spacing\" textLength=\"49\" x=\"411\" y=\"789.3418\">enabled</text><text fill=\"#000000\" font-family=\"sans-serif\" font-size=\"12\" font-weight=\"bold\" lengthAdjust=\"spacing\" textLength=\"37\" x=\"464\" y=\"789.3418\">false</text></g><path d=\"M597,731 L597,771.2656 A0,0 0 0 0 597,771.2656 L945,771.2656 A0,0 0 0 0 945,771.2656 L945,741 L935,731 L766.277,731 L715.222,628.005 L758.277,731 L597,731 A0,0 0 0 0 597,731 \" fill=\"#FBFB77\" filter=\"url(#fgmtr1i6djhx8)\" style=\"stroke:#A80036;stroke-width:1.0;\"/><path d=\"M935,731 L935,741 L945,741 L935,731 \" fill=\"#FBFB77\" style=\"stroke:#A80036;stroke-width:1.0;\"/><text fill=\"#000000\" font-family=\"sans-serif\" font-size=\"13\" lengthAdjust=\"spacing\" textLength=\"293\" x=\"603\" y=\"748.0669\">- history state is used when renentering state</text><text fill=\"#000000\" font-family=\"sans-serif\" font-size=\"13\" lengthAdjust=\"spacing\" textLength=\"327\" x=\"603\" y=\"763.1997\">- previous child state will be restored automatically</text><rect fill=\"#FEFECE\" filter=\"url(#fgmtr1i6djhx8)\" height=\"541.3438\" rx=\"12.5\" ry=\"12.5\" style=\"stroke:#A80036;stroke-width:1.5;\" width=\"1169.5\" x=\"7\" y=\"87\"/><rect fill=\"#FFFFFF\" height=\"448.1719\" rx=\"12.5\" ry=\"12.5\" style=\"stroke:#FFFFFF;stroke-width:1.0;\" width=\"1163.5\" x=\"10\" y=\"177.1719\"/><line style=\"stroke:#A80036;stroke-width:1.5;\" x1=\"7\" x2=\"1176.5\" y1=\"174.1719\" y2=\"174.1719\"/><line style=\"stroke:#A80036;stroke-width:1.5;\" x1=\"7\" x2=\"1176.5\" y1=\"113.2969\" y2=\"113.2969\"/><text fill=\"#000000\" font-family=\"sans-serif\" font-size=\"14\" lengthAdjust=\"spacing\" textLength=\"66\" x=\"558.75\" y=\"104.9951\">Unlocked</text><text fill=\"#000000\" font-family=\"sans-serif\" font-size=\"12\" font-weight=\"bold\" lengthAdjust=\"spacing\" textLength=\"68\" x=\"12\" y=\"124.4355\">pbToggle</text><text fill=\"#000000\" font-family=\"sans-serif\" font-size=\"12\" lengthAdjust=\"spacing\" textLength=\"23\" x=\"84\" y=\"124.4355\">text</text><text fill=\"#000000\" font-family=\"sans-serif\" font-size=\"12\" font-weight=\"bold\" lengthAdjust=\"spacing\" textLength=\"33\" x=\"111\" y=\"124.4355\">Lock</text><text fill=\"#000000\" font-family=\"sans-serif\" font-size=\"12\" font-weight=\"bold\" lengthAdjust=\"spacing\" textLength=\"56\" x=\"12\" y=\"138.4043\">pbOpen</text><text fill=\"#000000\" font-family=\"sans-serif\" font-size=\"12\" lengthAdjust=\"spacing\" textLength=\"49\" x=\"72\" y=\"138.4043\">enabled</text><text fill=\"#000000\" font-family=\"sans-serif\" font-size=\"12\" font-weight=\"bold\" lengthAdjust=\"spacing\" textLength=\"32\" x=\"125\" y=\"138.4043\">true</text><text fill=\"#000000\" font-family=\"sans-serif\" font-size=\"12\" font-weight=\"bold\" lengthAdjust=\"spacing\" textLength=\"53\" x=\"12\" y=\"152.373\">pbSave</text><text fill=\"#000000\" font-family=\"sans-serif\" font-size=\"12\" lengthAdjust=\"spacing\" textLength=\"49\" x=\"69\" y=\"152.373\">enabled</text><text fill=\"#000000\" font-family=\"sans-serif\" font-size=\"12\" font-weight=\"bold\" lengthAdjust=\"spacing\" textLength=\"32\" x=\"122\" y=\"152.373\">true</text><text fill=\"#000000\" font-family=\"sans-serif\" font-size=\"12\" font-weight=\"bold\" lengthAdjust=\"spacing\" textLength=\"50\" x=\"12\" y=\"166.3418\">teText</text><text fill=\"#000000\" font-family=\"sans-serif\" font-size=\"12\" lengthAdjust=\"spacing\" textLength=\"49\" x=\"66\" y=\"166.3418\">enabled</text><text fill=\"#000000\" font-family=\"sans-serif\" font-size=\"12\" font-weight=\"bold\" lengthAdjust=\"spacing\" textLength=\"32\" x=\"119\" y=\"166.3418\">true</text><ellipse cx=\"204.5\" cy=\"195.1719\" fill=\"#000000\" filter=\"url(#fgmtr1i6djhx8)\" rx=\"10\" ry=\"10\" style=\"stroke:none;stroke-width:1.0;\"/><g id=\"Unlocked.Startup\"><rect fill=\"#FEFECE\" filter=\"url(#fgmtr1i6djhx8)\" height=\"92.1719\" rx=\"12.5\" ry=\"12.5\" style=\"stroke:#A80036;stroke-width:1.5;\" width=\"371\" x=\"19\" y=\"242.1719\"/><line style=\"stroke:#A80036;stroke-width:1.5;\" x1=\"19\" x2=\"390\" y1=\"268.4688\" y2=\"268.4688\"/><text fill=\"#000000\" font-family=\"sans-serif\" font-size=\"14\" lengthAdjust=\"spacing\" textLength=\"55\" x=\"177\" y=\"260.167\">Startup</text><text fill=\"#000000\" font-family=\"sans-serif\" font-size=\"12\" font-weight=\"bold\" lengthAdjust=\"spacing\" textLength=\"56\" x=\"24\" y=\"284.6074\">pbOpen</text><text fill=\"#000000\" font-family=\"sans-serif\" font-size=\"12\" lengthAdjust=\"spacing\" textLength=\"49\" x=\"84\" y=\"284.6074\">enabled</text><text fill=\"#000000\" font-family=\"sans-serif\" font-size=\"12\" font-weight=\"bold\" lengthAdjust=\"spacing\" textLength=\"32\" x=\"137\" y=\"284.6074\">true</text><text fill=\"#000000\" font-family=\"sans-serif\" font-size=\"12\" font-weight=\"bold\" lengthAdjust=\"spacing\" textLength=\"53\" x=\"24\" y=\"298.5762\">pbSave</text><text fill=\"#000000\" font-family=\"sans-serif\" font-size=\"12\" lengthAdjust=\"spacing\" textLength=\"49\" x=\"81\" y=\"298.5762\">enabled</text><text fill=\"#000000\" font-family=\"sans-serif\" font-size=\"12\" font-weight=\"bold\" lengthAdjust=\"spacing\" textLength=\"37\" x=\"134\" y=\"298.5762\">false</text><text fill=\"#000000\" font-family=\"sans-serif\" font-size=\"12\" font-weight=\"bold\" lengthAdjust=\"spacing\" textLength=\"50\" x=\"24\" y=\"312.5449\">teText</text><text fill=\"#000000\" font-family=\"sans-serif\" font-size=\"12\" lengthAdjust=\"spacing\" textLength=\"49\" x=\"78\" y=\"312.5449\">enabled</text><text fill=\"#000000\" font-family=\"sans-serif\" font-size=\"12\" font-weight=\"bold\" lengthAdjust=\"spacing\" textLength=\"37\" x=\"131\" y=\"312.5449\">false</text><text fill=\"#000000\" font-family=\"sans-serif\" font-size=\"12\" font-weight=\"bold\" lengthAdjust=\"spacing\" textLength=\"50\" x=\"24\" y=\"326.5137\">teText</text><text fill=\"#000000\" font-family=\"sans-serif\" font-size=\"12\" lengthAdjust=\"spacing\" textLength=\"98\" x=\"78\" y=\"326.5137\">placeholderText</text><text fill=\"#000000\" font-family=\"sans-serif\" font-size=\"12\" font-weight=\"bold\" lengthAdjust=\"spacing\" textLength=\"195\" x=\"180\" y=\"326.5137\">Open file to start editing...</text></g><g id=\"Unlocked.Open\"><rect fill=\"#FEFECE\" filter=\"url(#fgmtr1i6djhx8)\" height=\"50.2656\" rx=\"12.5\" ry=\"12.5\" style=\"stroke:#A80036;stroke-width:1.5;\" width=\"218\" x=\"293.5\" y=\"401.1719\"/><line style=\"stroke:#A80036;stroke-width:1.5;\" x1=\"293.5\" x2=\"511.5\" y1=\"427.4688\" y2=\"427.4688\"/><text fill=\"#000000\" font-family=\"sans-serif\" font-size=\"14\" lengthAdjust=\"spacing\" textLength=\"39\" x=\"383\" y=\"419.167\">Open</text><text fill=\"#000000\" font-family=\"sans-serif\" font-size=\"12\" font-weight=\"bold\" lengthAdjust=\"spacing\" textLength=\"40\" x=\"298.5\" y=\"443.6074\">state</text><text fill=\"#000000\" font-family=\"sans-serif\" font-size=\"12\" lengthAdjust=\"spacing\" textLength=\"77\" x=\"342.5\" y=\"443.6074\">entered() -&gt;</text><text fill=\"#000000\" font-family=\"sans-serif\" font-size=\"12\" font-weight=\"bold\" lengthAdjust=\"spacing\" textLength=\"28\" x=\"423.5\" y=\"443.6074\">this</text><text fill=\"#000000\" font-family=\"sans-serif\" font-size=\"12\" lengthAdjust=\"spacing\" textLength=\"41\" x=\"455.5\" y=\"443.6074\">open()</text></g><g id=\"Unlocked.Error\"><rect fill=\"#FEFECE\" filter=\"url(#fgmtr1i6djhx8)\" height=\"92.1719\" rx=\"12.5\" ry=\"12.5\" style=\"stroke:#A80036;stroke-width:1.5;\" width=\"472\" x=\"265.5\" y=\"518.1719\"/><line style=\"stroke:#A80036;stroke-width:1.5;\" x1=\"265.5\" x2=\"737.5\" y1=\"544.4688\" y2=\"544.4688\"/><text fill=\"#000000\" font-family=\"sans-serif\" font-size=\"14\" lengthAdjust=\"spacing\" textLength=\"36\" x=\"483.5\" y=\"536.167\">Error</text><text fill=\"#000000\" font-family=\"sans-serif\" font-size=\"12\" font-weight=\"bold\" lengthAdjust=\"spacing\" textLength=\"56\" x=\"270.5\" y=\"560.6074\">pbOpen</text><text fill=\"#000000\" font-family=\"sans-serif\" font-size=\"12\" lengthAdjust=\"spacing\" textLength=\"49\" x=\"330.5\" y=\"560.6074\">enabled</text><text fill=\"#000000\" font-family=\"sans-serif\" font-size=\"12\" font-weight=\"bold\" lengthAdjust=\"spacing\" textLength=\"32\" x=\"383.5\" y=\"560.6074\">true</text><text fill=\"#000000\" font-family=\"sans-serif\" font-size=\"12\" font-weight=\"bold\" lengthAdjust=\"spacing\" textLength=\"53\" x=\"270.5\" y=\"574.5762\">pbSave</text><text fill=\"#000000\" font-family=\"sans-serif\" font-size=\"12\" lengthAdjust=\"spacing\" textLength=\"49\" x=\"327.5\" y=\"574.5762\">enabled</text><text fill=\"#000000\" font-family=\"sans-serif\" font-size=\"12\" font-weight=\"bold\" lengthAdjust=\"spacing\" textLength=\"37\" x=\"380.5\" y=\"574.5762\">false</text><text fill=\"#000000\" font-family=\"sans-serif\" font-size=\"12\" font-weight=\"bold\" lengthAdjust=\"spacing\" textLength=\"50\" x=\"270.5\" y=\"588.5449\">teText</text><text fill=\"#000000\" font-family=\"sans-serif\" font-size=\"12\" lengthAdjust=\"spacing\" textLength=\"49\" x=\"324.5\" y=\"588.5449\">enabled</text><text fill=\"#000000\" font-family=\"sans-serif\" font-size=\"12\" font-weight=\"bold\" lengthAdjust=\"spacing\" textLength=\"37\" x=\"377.5\" y=\"588.5449\">false</text><text fill=\"#000000\" font-family=\"sans-serif\" font-size=\"12\" font-weight=\"bold\" lengthAdjust=\"spacing\" textLength=\"50\" x=\"270.5\" y=\"602.5137\">teText</text><text fill=\"#000000\" font-family=\"sans-serif\" font-size=\"12\" lengthAdjust=\"spacing\" textLength=\"98\" x=\"324.5\" y=\"602.5137\">placeholderText</text><text fill=\"#000000\" font-family=\"sans-serif\" font-size=\"12\" font-weight=\"bold\" lengthAdjust=\"spacing\" textLength=\"296\" x=\"426.5\" y=\"602.5137\">Error ocured. Open file to start editing...</text></g><g id=\"Unlocked.View\"><rect fill=\"#FEFECE\" filter=\"url(#fgmtr1i6djhx8)\" height=\"78.2031\" rx=\"12.5\" ry=\"12.5\" style=\"stroke:#A80036;stroke-width:1.5;\" width=\"167\" x=\"671\" y=\"387.1719\"/><line style=\"stroke:#A80036;stroke-width:1.5;\" x1=\"671\" x2=\"838\" y1=\"413.4688\" y2=\"413.4688\"/><text fill=\"#000000\" font-family=\"sans-serif\" font-size=\"14\" lengthAdjust=\"spacing\" textLength=\"34\" x=\"737.5\" y=\"405.167\">View</text><text fill=\"#000000\" font-family=\"sans-serif\" font-size=\"12\" font-weight=\"bold\" lengthAdjust=\"spacing\" textLength=\"56\" x=\"676\" y=\"429.6074\">pbOpen</text><text fill=\"#000000\" font-family=\"sans-serif\" font-size=\"12\" lengthAdjust=\"spacing\" textLength=\"49\" x=\"736\" y=\"429.6074\">enabled</text><text fill=\"#000000\" font-family=\"sans-serif\" font-size=\"12\" font-weight=\"bold\" lengthAdjust=\"spacing\" textLength=\"32\" x=\"789\" y=\"429.6074\">true</text><text fill=\"#000000\" font-family=\"sans-serif\" font-size=\"12\" font-weight=\"bold\" lengthAdjust=\"spacing\" textLength=\"53\" x=\"676\" y=\"443.5762\">pbSave</text><text fill=\"#000000\" font-family=\"sans-serif\" font-size=\"12\" lengthAdjust=\"spacing\" textLength=\"49\" x=\"733\" y=\"443.5762\">enabled</text><text fill=\"#000000\" font-family=\"sans-serif\" font-size=\"12\" font-weight=\"bold\" lengthAdjust=\"spacing\" textLength=\"37\" x=\"786\" y=\"443.5762\">false</text><text fill=\"#000000\" font-family=\"sans-serif\" font-size=\"12\" font-weight=\"bold\" lengthAdjust=\"spacing\" textLength=\"50\" x=\"676\" y=\"457.5449\">teText</text><text fill=\"#000000\" font-family=\"sans-serif\" font-size=\"12\" lengthAdjust=\"spacing\" textLength=\"49\" x=\"730\" y=\"457.5449\">enabled</text><text fill=\"#000000\" font-family=\"sans-serif\" font-size=\"12\" font-weight=\"bold\" lengthAdjust=\"spacing\" textLength=\"32\" x=\"783\" y=\"457.5449\">true</text></g><g id=\"Unlocked.Edit\"><rect fill=\"#FEFECE\" filter=\"url(#fgmtr1i6djhx8)\" height=\"78.2031\" rx=\"12.5\" ry=\"12.5\" style=\"stroke:#A80036;stroke-width:1.5;\" width=\"170\" x=\"816.5\" y=\"249.1719\"/><line style=\"stroke:#A80036;stroke-width:1.5;\" x1=\"816.5\" x2=\"986.5\" y1=\"275.4688\" y2=\"275.4688\"/><text fill=\"#000000\" font-family=\"sans-serif\" font-size=\"14\" lengthAdjust=\"spacing\" textLength=\"29\" x=\"887\" y=\"267.167\">Edit</text><text fill=\"#000000\" font-family=\"sans-serif\" font-size=\"12\" font-weight=\"bold\" lengthAdjust=\"spacing\" textLength=\"56\" x=\"821.5\" y=\"291.6074\">pbOpen</text><text fill=\"#000000\" font-family=\"sans-serif\" font-size=\"12\" lengthAdjust=\"spacing\" textLength=\"49\" x=\"881.5\" y=\"291.6074\">enabled</text><text fill=\"#000000\" font-family=\"sans-serif\" font-size=\"12\" font-weight=\"bold\" lengthAdjust=\"spacing\" textLength=\"37\" x=\"934.5\" y=\"291.6074\">false</text><text fill=\"#000000\" font-family=\"sans-serif\" font-size=\"12\" font-weight=\"bold\" lengthAdjust=\"spacing\" textLength=\"53\" x=\"821.5\" y=\"305.5762\">pbSave</text><text fill=\"#000000\" font-family=\"sans-serif\" font-size=\"12\" lengthAdjust=\"spacing\" textLength=\"49\" x=\"878.5\" y=\"305.5762\">enabled</text><text fill=\"#000000\" font-family=\"sans-serif\" font-size=\"12\" font-weight=\"bold\" lengthAdjust=\"spacing\" textLength=\"32\" x=\"931.5\" y=\"305.5762\">true</text><text fill=\"#000000\" font-family=\"sans-serif\" font-size=\"12\" font-weight=\"bold\" lengthAdjust=\"spacing\" textLength=\"50\" x=\"821.5\" y=\"319.5449\">teText</text><text fill=\"#000000\" font-family=\"sans-serif\" font-size=\"12\" lengthAdjust=\"spacing\" textLength=\"49\" x=\"875.5\" y=\"319.5449\">enabled</text><text fill=\"#000000\" font-family=\"sans-serif\" font-size=\"12\" font-weight=\"bold\" lengthAdjust=\"spacing\" textLength=\"32\" x=\"928.5\" y=\"319.5449\">true</text></g><g id=\"Unlocked.Save\"><rect fill=\"#FEFECE\" filter=\"url(#fgmtr1i6djhx8)\" height=\"50.2656\" rx=\"12.5\" ry=\"12.5\" style=\"stroke:#A80036;stroke-width:1.5;\" width=\"216\" x=\"939.5\" y=\"401.1719\"/><line style=\"stroke:#A80036;stroke-width:1.5;\" x1=\"939.5\" x2=\"1155.5\" y1=\"427.4688\" y2=\"427.4688\"/><text fill=\"#000000\" font-family=\"sans-serif\" font-size=\"14\" lengthAdjust=\"spacing\" textLength=\"34\" x=\"1030.5\" y=\"419.167\">Save</text><text fill=\"#000000\" font-family=\"sans-serif\" font-size=\"12\" font-weight=\"bold\" lengthAdjust=\"spacing\" textLength=\"40\" x=\"944.5\" y=\"443.6074\">state</text><text fill=\"#000000\" font-family=\"sans-serif\" font-size=\"12\" lengthAdjust=\"spacing\" textLength=\"77\" x=\"988.5\" y=\"443.6074\">entered() -&gt;</text><text fill=\"#000000\" font-family=\"sans-serif\" font-size=\"12\" font-weight=\"bold\" lengthAdjust=\"spacing\" textLength=\"28\" x=\"1069.5\" y=\"443.6074\">this</text><text fill=\"#000000\" font-family=\"sans-serif\" font-size=\"12\" lengthAdjust=\"spacing\" textLength=\"39\" x=\"1101.5\" y=\"443.6074\">save()</text></g><path d=\"M408,252.6719 L408,323.2031 A0,0 0 0 0 408,323.2031 L498.339,323.2031 L426.458,400.8569 L506.339,323.2031 L665,323.2031 A0,0 0 0 0 665,323.2031 L665,262.6719 L655,252.6719 L408,252.6719 A0,0 0 0 0 408,252.6719 \" fill=\"#FBFB77\" filter=\"url(#fgmtr1i6djhx8)\" style=\"stroke:#A80036;stroke-width:1.0;\"/><path d=\"M655,252.6719 L655,262.6719 L665,262.6719 L655,252.6719 \" fill=\"#FBFB77\" style=\"stroke:#A80036;stroke-width:1.0;\"/><text fill=\"#000000\" font-family=\"sans-serif\" font-size=\"13\" lengthAdjust=\"spacing\" textLength=\"232\" x=\"414\" y=\"269.7388\">- displays file dialog for file selection</text><text fill=\"#000000\" font-family=\"sans-serif\" font-size=\"13\" lengthAdjust=\"spacing\" textLength=\"153\" x=\"414\" y=\"284.8716\">- reads the file contents</text><text fill=\"#000000\" font-family=\"sans-serif\" font-size=\"13\" lengthAdjust=\"spacing\" textLength=\"179\" x=\"414\" y=\"300.0044\">- sets obtained text into the</text><text fill=\"#000000\" font-family=\"sans-serif\" font-size=\"13\" font-weight=\"bold\" lengthAdjust=\"spacing\" textLength=\"53\" x=\"597\" y=\"300.0044\">teText</text><text fill=\"#000000\" font-family=\"sans-serif\" font-size=\"13\" lengthAdjust=\"spacing\" textLength=\"171\" x=\"414\" y=\"315.1372\">- stores selected file name</text><path d=\"M949,544.1719 L949,584.4375 A0,0 0 0 0 949,584.4375 L1146,584.4375 A0,0 0 0 0 1146,584.4375 L1146,554.1719 L1136,544.1719 L1051.5,544.1719 L1047.5,451.1729 L1043.5,544.1719 L949,544.1719 A0,0 0 0 0 949,544.1719 \" fill=\"#FBFB77\" filter=\"url(#fgmtr1i6djhx8)\" style=\"stroke:#A80036;stroke-width:1.0;\"/><path d=\"M1136,544.1719 L1136,554.1719 L1146,554.1719 L1136,544.1719 \" fill=\"#FBFB77\" style=\"stroke:#A80036;stroke-width:1.0;\"/><text fill=\"#000000\" font-family=\"sans-serif\" font-size=\"13\" lengthAdjust=\"spacing\" textLength=\"117\" x=\"955\" y=\"561.2388\">- saves text to file</text><text fill=\"#000000\" font-family=\"sans-serif\" font-size=\"13\" lengthAdjust=\"spacing\" textLength=\"176\" x=\"955\" y=\"576.3716\">- selected file name is used</text><!--MD5=[471c42a29771e1d030c5f977ec8cce5d]\n",
       "link *start*Unlocked to Startup--><path d=\"M204.5,205.2299 C204.5,212.9399 204.5,224.6789 204.5,236.8819 \" fill=\"none\" id=\"*start*Unlocked-to-Startup\" style=\"stroke:#A80036;stroke-width:1.0;\"/><polygon fill=\"#A80036\" points=\"204.5,242.1299,208.5,233.1299,204.5,237.1299,200.5,233.1299,204.5,242.1299\" style=\"stroke:#A80036;stroke-width:1.0;\"/><!--MD5=[e79221595f9032ff3a99fc62ef59da71]\n",
       "link Startup to Open--><path d=\"M265.741,334.1849 C281.812,345.7559 299.208,358.0689 315.5,369.1719 C329.759,378.8899 345.567,389.1989 359.754,398.2889 \" fill=\"none\" id=\"Startup-to-Open\" style=\"stroke:#A80036;stroke-width:1.0;\"/><polygon fill=\"#A80036\" points=\"364.101,401.0689,358.6734,392.8506,359.8885,398.3754,354.3637,399.5905,364.101,401.0689\" style=\"stroke:#A80036;stroke-width:1.0;\"/><text fill=\"#000000\" font-family=\"sans-serif\" font-size=\"13\" font-weight=\"bold\" lengthAdjust=\"spacing\" textLength=\"56\" x=\"316.5\" y=\"365.2388\">pbOpen</text><text fill=\"#000000\" font-family=\"sans-serif\" font-size=\"13\" lengthAdjust=\"spacing\" textLength=\"80\" x=\"376.5\" y=\"365.2388\">clicked(bool)</text><!--MD5=[98923c5c134b110e783401a90f5301fb]\n",
       "reverse link Open to Error--><path d=\"M450.486,454.3989 C461.32,462.4589 471.862,472.1309 479.5,483.1719 C486.63,493.4779 491.454,506.0189 494.717,518.085 \" fill=\"none\" id=\"Open-backto-Error\" style=\"stroke:#A80036;stroke-width:1.0;\"/><polygon fill=\"#A80036\" points=\"446.162,451.2749,451.1141,459.7882,450.2147,454.2033,455.7996,453.3039,446.162,451.2749\" style=\"stroke:#A80036;stroke-width:1.0;\"/><text fill=\"#000000\" font-family=\"sans-serif\" font-size=\"13\" font-weight=\"bold\" lengthAdjust=\"spacing\" textLength=\"56\" x=\"489.5\" y=\"496.2388\">pbOpen</text><text fill=\"#000000\" font-family=\"sans-serif\" font-size=\"13\" lengthAdjust=\"spacing\" textLength=\"80\" x=\"549.5\" y=\"496.2388\">clicked(bool)</text><!--MD5=[0419d6639f6d4acd97b1084b7f0a2136]\n",
       "link Open to View--><path d=\"M511.841,443.1149 C522.935,444.3619 534.052,445.4239 544.75,446.1719 C585.983,449.0559 596.565,449.6739 637.75,446.1719 C646.827,445.3999 656.258,444.2969 665.649,442.9989 \" fill=\"none\" id=\"Open-to-View\" style=\"stroke:#A80036;stroke-width:1.0;\"/><polygon fill=\"#A80036\" points=\"670.859,442.2589,661.3861,439.5638,665.9087,442.9618,662.5107,447.4844,670.859,442.2589\" style=\"stroke:#A80036;stroke-width:1.0;\"/><text fill=\"#000000\" font-family=\"sans-serif\" font-size=\"13\" font-weight=\"bold\" lengthAdjust=\"spacing\" textLength=\"29\" x=\"545.75\" y=\"442.2388\">this</text><text fill=\"#000000\" font-family=\"sans-serif\" font-size=\"13\" lengthAdjust=\"spacing\" textLength=\"58\" x=\"578.75\" y=\"442.2388\">opened()</text><!--MD5=[bbf417c1c028b47398ac21d574eec8fb]\n",
       "link Open to Error--><path d=\"M395.397,451.3309 C392.414,466.3099 391.283,485.4379 399.5,500.1719 C402.294,505.1819 405.669,509.8439 409.468,514.1739 \" fill=\"none\" id=\"Open-to-Error\" style=\"stroke:#A80036;stroke-width:1.0;\"/><polygon fill=\"#A80036\" points=\"413.07,518.0578,409.882,508.7391,409.6697,514.392,404.0168,514.1797,413.07,518.0578\" style=\"stroke:#A80036;stroke-width:1.0;\"/><text fill=\"#000000\" font-family=\"sans-serif\" font-size=\"13\" font-weight=\"bold\" lengthAdjust=\"spacing\" textLength=\"29\" x=\"400.5\" y=\"496.2388\">this</text><text fill=\"#000000\" font-family=\"sans-serif\" font-size=\"13\" lengthAdjust=\"spacing\" textLength=\"41\" x=\"433.5\" y=\"496.2388\">error()</text><!--MD5=[694a9de8e0069812f6bbe9812e0d4f37]\n",
       "reverse link Edit to View--><path d=\"M839.82,330.7859 C831.025,337.5809 822.321,344.8149 814.5,352.1719 C803.267,362.7369 792.194,375.3859 782.677,387.1639 \" fill=\"none\" id=\"Edit-backto-View\" style=\"stroke:#A80036;stroke-width:1.0;\"/><polygon fill=\"#A80036\" points=\"844.14,327.4869,834.5592,329.7691,840.1659,330.521,839.4139,336.1277,844.14,327.4869\" style=\"stroke:#A80036;stroke-width:1.0;\"/><text fill=\"#000000\" font-family=\"sans-serif\" font-size=\"13\" font-weight=\"bold\" lengthAdjust=\"spacing\" textLength=\"53\" x=\"815.5\" y=\"365.2388\">teText</text><text fill=\"#000000\" font-family=\"sans-serif\" font-size=\"13\" lengthAdjust=\"spacing\" textLength=\"93\" x=\"872.5\" y=\"365.2388\">textChanged()</text><!--MD5=[9bd7e4def1740850fae63c9ea2a739f6]\n",
       "reverse link Open to View--><path d=\"M517.08,426.1719 C567.184,426.1719 624.881,426.1719 670.851,426.1719 \" fill=\"none\" id=\"Open-backto-View\" style=\"stroke:#A80036;stroke-width:1.0;\"/><polygon fill=\"#A80036\" points=\"511.945,426.1719,520.945,430.1719,516.945,426.1719,520.945,422.1719,511.945,426.1719\" style=\"stroke:#A80036;stroke-width:1.0;\"/><text fill=\"#000000\" font-family=\"sans-serif\" font-size=\"13\" font-weight=\"bold\" lengthAdjust=\"spacing\" textLength=\"56\" x=\"521.25\" y=\"419.2388\">pbOpen</text><text fill=\"#000000\" font-family=\"sans-serif\" font-size=\"13\" lengthAdjust=\"spacing\" textLength=\"80\" x=\"581.25\" y=\"419.2388\">clicked(bool)</text><!--MD5=[31e2ec82897d3b644048a2e1354cd123]\n",
       "link Edit to Save--><path d=\"M942.558,327.4179 C966.477,349.6979 996.095,377.2869 1017.76,397.4689 \" fill=\"none\" id=\"Edit-to-Save\" style=\"stroke:#A80036;stroke-width:1.0;\"/><polygon fill=\"#A80036\" points=\"1021.44,400.8949,1017.5817,391.8332,1017.7817,397.4865,1012.1284,397.6865,1021.44,400.8949\" style=\"stroke:#A80036;stroke-width:1.0;\"/><text fill=\"#000000\" font-family=\"sans-serif\" font-size=\"13\" font-weight=\"bold\" lengthAdjust=\"spacing\" textLength=\"53\" x=\"984.5\" y=\"365.2388\">pbSave</text><text fill=\"#000000\" font-family=\"sans-serif\" font-size=\"13\" lengthAdjust=\"spacing\" textLength=\"80\" x=\"1041.5\" y=\"365.2388\">clicked(bool)</text><!--MD5=[800ea7a2160897961a989eef83cdaecd]\n",
       "reverse link View to Save--><path d=\"M843.287,426.1719 C873.583,426.1719 907.798,426.1719 939.439,426.1719 \" fill=\"none\" id=\"View-backto-Save\" style=\"stroke:#A80036;stroke-width:1.0;\"/><polygon fill=\"#A80036\" points=\"838.07,426.1719,847.07,430.1719,843.07,426.1719,847.07,422.1719,838.07,426.1719\" style=\"stroke:#A80036;stroke-width:1.0;\"/><text fill=\"#000000\" font-family=\"sans-serif\" font-size=\"13\" font-weight=\"bold\" lengthAdjust=\"spacing\" textLength=\"29\" x=\"847.75\" y=\"419.2388\">this</text><text fill=\"#000000\" font-family=\"sans-serif\" font-size=\"13\" lengthAdjust=\"spacing\" textLength=\"49\" x=\"880.75\" y=\"419.2388\">saved()</text><!--MD5=[44e5867cef231bfd76ef3d82c76ac956]\n",
       "link Save to Error--><path d=\"M951.143,451.1729 C878.281,469.3219 775.998,494.7989 687.392,516.8691 \" fill=\"none\" id=\"Save-to-Error\" style=\"stroke:#A80036;stroke-width:1.0;\"/><polygon fill=\"#A80036\" points=\"682.381,518.1172,692.081,519.8231,687.2327,516.9086,690.1473,512.0603,682.381,518.1172\" style=\"stroke:#A80036;stroke-width:1.0;\"/><text fill=\"#000000\" font-family=\"sans-serif\" font-size=\"13\" font-weight=\"bold\" lengthAdjust=\"spacing\" textLength=\"29\" x=\"808.5\" y=\"496.2388\">this</text><text fill=\"#000000\" font-family=\"sans-serif\" font-size=\"13\" lengthAdjust=\"spacing\" textLength=\"41\" x=\"841.5\" y=\"496.2388\">error()</text><!--MD5=[78ea4764b02a60ade0cd71bace589b6e]\n",
       "link *start to Unlocked--><path d=\"M592,26.081 C592,36.955 592,56.854 592,81.7 \" fill=\"none\" id=\"*start-to-Unlocked\" style=\"stroke:#A80036;stroke-width:1.0;\"/><polygon fill=\"#A80036\" points=\"592,86.734,596,77.734,592,81.734,588,77.734,592,86.734\" style=\"stroke:#A80036;stroke-width:1.0;\"/><!--MD5=[39780057df2fc12f2c7c618dd03f2596]\n",
       "reverse link Unlocked to Locked--><path d=\"M401.407,633.21 C398.319,641.439 395.503,649.71 393,658 C388.241,673.763 392.746,690.214 400.413,704.7742 \" fill=\"none\" id=\"Unlocked-backto-Locked\" style=\"stroke:#A80036;stroke-width:1.0;\"/><polygon fill=\"#A80036\" points=\"403.364,628.092,396.4141,635.0705,401.5787,632.7624,403.8867,637.927,403.364,628.092\" style=\"stroke:#A80036;stroke-width:1.0;\"/><text fill=\"#000000\" font-family=\"sans-serif\" font-size=\"13\" font-weight=\"bold\" lengthAdjust=\"spacing\" textLength=\"70\" x=\"394\" y=\"671.0669\">pbToggle</text><text fill=\"#000000\" font-family=\"sans-serif\" font-size=\"13\" lengthAdjust=\"spacing\" textLength=\"80\" x=\"468\" y=\"671.0669\">clicked(bool)</text><!--MD5=[cb081e7762ac6e832e2c6eea590380c3]\n",
       "link Unlocked to Locked--><path d=\"M575.842,628.103 C569.711,644.541 562.186,660.339 553,675 C546.031,686.123 536.739,695.918 526.436,704.445 \" fill=\"none\" id=\"Unlocked-to-Locked\" style=\"stroke:#A80036;stroke-width:1.0;\"/><polygon fill=\"#A80036\" points=\"522.283,707.7737,531.8073,705.2662,526.1845,704.6466,526.804,699.0238,522.283,707.7737\" style=\"stroke:#A80036;stroke-width:1.0;\"/><text fill=\"#000000\" font-family=\"sans-serif\" font-size=\"13\" font-weight=\"bold\" lengthAdjust=\"spacing\" textLength=\"70\" x=\"563\" y=\"671.0669\">pbToggle</text><text fill=\"#000000\" font-family=\"sans-serif\" font-size=\"13\" lengthAdjust=\"spacing\" textLength=\"80\" x=\"637\" y=\"671.0669\">clicked(bool)</text><!--MD5=[46df2dd1349e700900c6b6fae2b5b38d]\n",
       "@startuml\n",
       "[*] -down-> Unlocked\n",
       "\n",
       "Locked -up-> Unlocked : <b>pbToggle</b> clicked(bool)\n",
       "Unlocked -down-> Locked : <b>pbToggle</b> clicked(bool)\n",
       "\n",
       "state Unlocked {\n",
       "    [*] -down-> Startup\n",
       "    Startup -down-> Open : <b>pbOpen</b> clicked(bool)\n",
       "    Error -up-> Open : <b>pbOpen</b> clicked(bool)\n",
       "    Open -right-> View : <b>this</b> opened()\n",
       "    Open -down-> Error : <b>this</b> error()\n",
       "    Open: <b>state</b> entered() -> <b>this</b> open()\n",
       "    View -up-> Edit : <b>teText</b> textChanged()\n",
       "    View -left-> Open : <b>pbOpen</b> clicked(bool)\n",
       "    Edit -down-> Save : <b>pbSave</b> clicked(bool)\n",
       "    Save -left-> View : <b>this</b> saved()\n",
       "    Save: <b>state</b> entered() -> <b>this</b> save()\n",
       "    Save -down-> Error : <b>this</b> error()\n",
       "\n",
       "    note top of Open \n",
       "        - displays file dialog for file selection\n",
       "        - reads the file contents\n",
       "        - sets obtained text into the <b>teText</b>\n",
       "        - stores selected file name\n",
       "    end note\n",
       "\n",
       "    note bottom of Save\n",
       "        - saves text to file\n",
       "        - selected file name is used\n",
       "    end note\n",
       "}\n",
       "\n",
       "Unlocked: <b>pbToggle</b> text <b>Lock</b>\n",
       "Unlocked: <b>pbOpen</b> enabled <b>true</b>\n",
       "Unlocked: <b>pbSave</b> enabled <b>true</b>\n",
       "Unlocked: <b>teText</b> enabled <b>true</b>\n",
       "\n",
       "note bottom of Unlocked\n",
       "    - history state is used when renentering state\n",
       "    - previous child state will be restored automatically\n",
       "end note\n",
       "\n",
       "Locked: <b>pbToggle</b> text <b>Unlock</b>\n",
       "Locked: <b>pbOpen</b> enabled <b>false</b>\n",
       "Locked: <b>pbSave</b> enabled <b>false</b>\n",
       "Locked: <b>teText</b> enabled <b>false</b>\n",
       "\n",
       "Startup: <b>pbOpen</b> enabled <b>true</b>\n",
       "Startup: <b>pbSave</b> enabled <b>false</b>\n",
       "Startup: <b>teText</b> enabled <b>false</b>\n",
       "Startup: <b>teText</b> placeholderText <b>Open file to start editing...</b>\n",
       "\n",
       "View: <b>pbOpen</b> enabled <b>true</b>\n",
       "View: <b>pbSave</b> enabled <b>false</b>\n",
       "View: <b>teText</b> enabled <b>true</b>\n",
       "\n",
       "Edit: <b>pbOpen</b> enabled <b>false</b>\n",
       "Edit: <b>pbSave</b> enabled <b>true</b>\n",
       "Edit: <b>teText</b> enabled <b>true</b>\n",
       "\n",
       "Error: <b>pbOpen</b> enabled <b>true</b>\n",
       "Error: <b>pbSave</b> enabled <b>false</b>\n",
       "Error: <b>teText</b> enabled <b>false</b>\n",
       "Error: <b>teText</b> placeholderText <b>Error ocured. Open file to start editing...</b>\n",
       "@enduml\n",
       "\n",
       "PlantUML version 1.2020.27beta8(Unknown compile time)\n",
       "(GPL source distribution)\n",
       "Java Runtime: Java(TM) SE Runtime Environment\n",
       "JVM: Java HotSpot(TM) 64-Bit Server VM\n",
       "Default Encoding: UTF-8\n",
       "Language: en\n",
       "Country: US\n",
       "--></g></svg>"
      ],
      "text/plain": [
       "<IPython.core.display.SVG object>"
      ]
     },
     "execution_count": 3,
     "metadata": {},
     "output_type": "execute_result"
    }
   ],
   "source": [
    "%%plantuml\n",
    "\n",
    "@startuml\n",
    "\n",
    "[*] -down-> Unlocked\n",
    "\n",
    "Locked -up-> Unlocked : <b>pbToggle</b> clicked(bool)\n",
    "Unlocked -down-> Locked : <b>pbToggle</b> clicked(bool)\n",
    "\n",
    "state Unlocked {\n",
    "    [*] -down-> Startup\n",
    "    Startup -down-> Open : <b>pbOpen</b> clicked(bool)\n",
    "    Error -up-> Open : <b>pbOpen</b> clicked(bool)\n",
    "    Open -right-> View : <b>this</b> opened()\n",
    "    Open -down-> Error : <b>this</b> error()\n",
    "    Open: <b>state</b> entered() -> <b>this</b> open()\n",
    "    View -up-> Edit : <b>teText</b> textChanged()\n",
    "    View -left-> Open : <b>pbOpen</b> clicked(bool)\n",
    "    Edit -down-> Save : <b>pbSave</b> clicked(bool)\n",
    "    Save -left-> View : <b>this</b> saved()\n",
    "    Save: <b>state</b> entered() -> <b>this</b> save()\n",
    "    Save -down-> Error : <b>this</b> error()\n",
    "\n",
    "    note top of Open \n",
    "        - displays file dialog for file selection\n",
    "        - reads the file contents\n",
    "        - sets obtained text into the <b>teText</b>\n",
    "        - stores selected file name\n",
    "    end note\n",
    "\n",
    "    note bottom of Save\n",
    "        - saves text to file\n",
    "        - selected file name is used\n",
    "    end note\n",
    "}\n",
    "\n",
    "Unlocked: <b>pbToggle</b> text <b>Lock</b>\n",
    "Unlocked: <b>pbOpen</b> enabled <b>true</b>\n",
    "Unlocked: <b>pbSave</b> enabled <b>true</b>\n",
    "Unlocked: <b>teText</b> enabled <b>true</b>\n",
    "\n",
    "note bottom of Unlocked\n",
    "    - history state is used when renentering state\n",
    "    - previous child state will be restored automatically\n",
    "end note\n",
    "\n",
    "Locked: <b>pbToggle</b> text <b>Unlock</b>\n",
    "Locked: <b>pbOpen</b> enabled <b>false</b>\n",
    "Locked: <b>pbSave</b> enabled <b>false</b>\n",
    "Locked: <b>teText</b> enabled <b>false</b>\n",
    "\n",
    "Startup: <b>pbOpen</b> enabled <b>true</b>\n",
    "Startup: <b>pbSave</b> enabled <b>false</b>\n",
    "Startup: <b>teText</b> enabled <b>false</b>\n",
    "Startup: <b>teText</b> placeholderText <b>Open file to start editing...</b>\n",
    "\n",
    "View: <b>pbOpen</b> enabled <b>true</b>\n",
    "View: <b>pbSave</b> enabled <b>false</b>\n",
    "View: <b>teText</b> enabled <b>true</b>\n",
    "\n",
    "Edit: <b>pbOpen</b> enabled <b>false</b>\n",
    "Edit: <b>pbSave</b> enabled <b>true</b>\n",
    "Edit: <b>teText</b> enabled <b>true</b>\n",
    "\n",
    "Error: <b>pbOpen</b> enabled <b>true</b>\n",
    "Error: <b>pbSave</b> enabled <b>false</b>\n",
    "Error: <b>teText</b> enabled <b>false</b>\n",
    "Error: <b>teText</b> placeholderText <b>Error ocured. Open file to start editing...</b>\n",
    "\n",
    "@enduml"
   ]
  },
  {
   "cell_type": "markdown",
   "metadata": {},
   "source": [
    "#### Edit the code"
   ]
  },
  {
   "cell_type": "code",
   "execution_count": null,
   "metadata": {},
   "outputs": [],
   "source": [
    "! qtcreator"
   ]
  },
  {
   "cell_type": "markdown",
   "metadata": {},
   "source": [
    "#### Build the code"
   ]
  },
  {
   "cell_type": "code",
   "execution_count": null,
   "metadata": {},
   "outputs": [],
   "source": [
    "! rm -rf build-project"
   ]
  },
  {
   "cell_type": "code",
   "execution_count": null,
   "metadata": {},
   "outputs": [],
   "source": [
    "! mkdir build-project"
   ]
  },
  {
   "cell_type": "code",
   "execution_count": null,
   "metadata": {},
   "outputs": [],
   "source": [
    "! cd build-project && qmake ../project"
   ]
  },
  {
   "cell_type": "code",
   "execution_count": null,
   "metadata": {},
   "outputs": [],
   "source": [
    "! cd build-project && make -j4"
   ]
  },
  {
   "cell_type": "code",
   "execution_count": null,
   "metadata": {},
   "outputs": [],
   "source": [
    "! build-project/project"
   ]
  },
  {
   "cell_type": "markdown",
   "metadata": {},
   "source": [
    "Stop above cell or close the window."
   ]
  }
 ],
 "metadata": {
  "kernelspec": {
   "display_name": "Python 3",
   "language": "python",
   "name": "python3"
  },
  "language_info": {
   "codemirror_mode": {
    "name": "ipython",
    "version": 3
   },
   "file_extension": ".py",
   "mimetype": "text/x-python",
   "name": "python",
   "nbconvert_exporter": "python",
   "pygments_lexer": "ipython3",
   "version": "3.8.3"
  }
 },
 "nbformat": 4,
 "nbformat_minor": 4
}
