{
 "cells": [
  {
   "cell_type": "markdown",
   "metadata": {},
   "source": [
    "# OOP 2020"
   ]
  },
  {
   "cell_type": "markdown",
   "metadata": {},
   "source": [
    "#### Links"
   ]
  },
  {
   "cell_type": "markdown",
   "metadata": {},
   "source": [
    "#### Edit the code"
   ]
  },
  {
   "cell_type": "code",
   "execution_count": null,
   "metadata": {},
   "outputs": [
    {
     "name": "stdout",
     "output_type": "stream",
     "text": [
      "QStandardPaths: XDG_RUNTIME_DIR not set, defaulting to '/tmp/runtime-student'\n",
      "Could not find absolute location of file  \"moc_mainwindow.cpp\"\n",
      "Could not find absolute location of file  \"moc_mainwindow.cpp\"\n",
      "Could not find absolute location of file  \"moc_mainwindow.cpp\"\n",
      "Could not find absolute location of file  \"moc_mainwindow.cpp\"\n",
      "Could not find absolute location of file  \"moc_mainwindow.cpp\"\n",
      "Could not find absolute location of file  \"moc_mainwindow.cpp\"\n",
      "Could not find absolute location of file  \"moc_mainwindow.cpp\"\n",
      "Could not find absolute location of file  \"moc_mainwindow.cpp\"\n",
      "Could not find absolute location of file  \"moc_mainwindow.cpp\"\n",
      "Could not find absolute location of file  \"moc_mainwindow.cpp\"\n",
      "\"ClangCodeModelConnectionClient\" LocalSocket Error: \"QLocalSocket: Remote closed\"\n",
      "2021-02-04T19:35:11 Clang Code Model: Error: The clangbackend process has finished unexpectedly and was restarted.\n",
      "Error in ClangCodeModelServer::documentsClosed: Document '/home/student/oop_2020_galeria_zdjec/galeria_zdjec/Project/App/edit.cpp' does not exists!\n",
      "Error in ClangCodeModelServer::documentsClosed: Document '/home/student/oop_2020_galeria_zdjec/galeria_zdjec/Project/App/mainwindow.cpp' does not exists!\n",
      "Error in ClangCodeModelServer::documentsClosed: Document '/home/student/oop_2020_galeria_zdjec/galeria_zdjec/Project/App/mainwindow.h' does not exists!\n",
      "Error in ClangCodeModelServer::documentsClosed: Document '/home/student/oop_2020_galeria_zdjec/galeria_zdjec/build-Project-Desktop-Debug/App/moc_mainwindow.cpp' does not exists!\n",
      "\"ClangCodeModelConnectionClient\" LocalSocket Error: \"QLocalSocket: Remote closed\"\n",
      "2021-02-04T19:35:12 Clang Code Model: Error: The clangbackend process has finished unexpectedly and was restarted.\n",
      "Error in ClangCodeModelServer::documentsClosed: Document '/home/student/oop_2020_galeria_zdjec/galeria_zdjec/build-Project-Desktop-Debug/App/moc_mainwindow.cpp' does not exists!\n",
      "\"ClangCodeModelConnectionClient\" LocalSocket Error: \"QLocalSocket: Remote closed\"\n",
      "2021-02-04T19:35:13 Clang Code Model: Error: The clangbackend process has finished unexpectedly and was restarted.\n",
      "Error in ClangCodeModelServer::documentsClosed: Document '/home/student/oop_2020_galeria_zdjec/galeria_zdjec/build-Project-Desktop-Debug/App/moc_mainwindow.cpp' does not exists!\n",
      "\"ClangCodeModelConnectionClient\" LocalSocket Error: \"QLocalSocket: Remote closed\"\n",
      "2021-02-04T19:35:14 Clang Code Model: Error: The clangbackend process has finished unexpectedly and was restarted.\n",
      "Error in ClangCodeModelServer::documentsClosed: Document '/home/student/oop_2020_galeria_zdjec/galeria_zdjec/build-Project-Desktop-Debug/App/moc_mainwindow.cpp' does not exists!\n",
      "\"ClangCodeModelConnectionClient\" LocalSocket Error: \"QLocalSocket: Remote closed\"\n",
      "2021-02-04T19:35:15 Clang Code Model: Error: The clangbackend process has finished unexpectedly and was restarted.\n",
      "Error in ClangCodeModelServer::documentsClosed: Document '/home/student/oop_2020_galeria_zdjec/galeria_zdjec/build-Project-Desktop-Debug/App/moc_mainwindow.cpp' does not exists!\n",
      "\"ClangCodeModelConnectionClient\" LocalSocket Error: \"QLocalSocket: Remote closed\"\n",
      "2021-02-04T19:35:16 Clang Code Model: Error: The clangbackend process has finished unexpectedly and was restarted.\n",
      "Error in ClangCodeModelServer::documentsClosed: Document '/home/student/oop_2020_galeria_zdjec/galeria_zdjec/build-Project-Desktop-Debug/App/moc_mainwindow.cpp' does not exists!\n",
      "\"ClangCodeModelConnectionClient\" LocalSocket Error: \"QLocalSocket: Remote closed\"\n",
      "2021-02-04T19:35:17 Clang Code Model: Error: The clangbackend process has finished unexpectedly and was restarted.\n",
      "Error in ClangCodeModelServer::documentsClosed: Document '/home/student/oop_2020_galeria_zdjec/galeria_zdjec/Project/App/mainwindow.h' does not exists!\n",
      "Could not find absolute location of file  \"moc_mainwindow.cpp\"\n",
      "Could not find absolute location of file  \"moc_mainwindow.cpp\"\n"
     ]
    }
   ],
   "source": [
    "! qtcreator"
   ]
  },
  {
   "cell_type": "markdown",
   "metadata": {},
   "source": [
    "#### Uml diagram"
   ]
  },
  {
   "cell_type": "code",
   "execution_count": 1,
   "metadata": {},
   "outputs": [],
   "source": [
    "import iplantuml"
   ]
  },
  {
   "cell_type": "code",
   "execution_count": 2,
   "metadata": {
    "scrolled": true
   },
   "outputs": [
    {
     "data": {
      "image/svg+xml": [
       "<svg xmlns=\"http://www.w3.org/2000/svg\" xmlns:xlink=\"http://www.w3.org/1999/xlink\" contentScriptType=\"application/ecmascript\" contentStyleType=\"text/css\" height=\"446px\" preserveAspectRatio=\"none\" style=\"width:619px;height:446px;\" version=\"1.1\" viewBox=\"0 0 619 446\" width=\"619px\" zoomAndPan=\"magnify\"><defs><filter height=\"300%\" id=\"f5knct00abl64\" width=\"300%\" x=\"-1\" y=\"-1\"><feGaussianBlur result=\"blurOut\" stdDeviation=\"2.0\"/><feColorMatrix in=\"blurOut\" result=\"blurOut2\" type=\"matrix\" values=\"0 0 0 0 0 0 0 0 0 0 0 0 0 0 0 0 0 0 .4 0\"/><feOffset dx=\"4.0\" dy=\"4.0\" in=\"blurOut2\" result=\"blurOut3\"/><feBlend in=\"SourceGraphic\" in2=\"blurOut3\" mode=\"normal\"/></filter></defs><g><ellipse cx=\"116\" cy=\"16\" fill=\"#000000\" filter=\"url(#f5knct00abl64)\" rx=\"10\" ry=\"10\" style=\"stroke:none;stroke-width:1.0;\"/><g id=\"Startup\"><rect fill=\"#FEFECE\" filter=\"url(#f5knct00abl64)\" height=\"134.0781\" rx=\"12.5\" ry=\"12.5\" style=\"stroke:#A80036;stroke-width:1.5;\" width=\"218\" x=\"7\" y=\"87\"/><line style=\"stroke:#A80036;stroke-width:1.5;\" x1=\"7\" x2=\"225\" y1=\"113.2969\" y2=\"113.2969\"/><text fill=\"#000000\" font-family=\"sans-serif\" font-size=\"14\" lengthAdjust=\"spacing\" textLength=\"55\" x=\"88.5\" y=\"104.9951\">Startup</text><text fill=\"#000000\" font-family=\"sans-serif\" font-size=\"12\" font-weight=\"bold\" lengthAdjust=\"spacing\" textLength=\"45\" x=\"12\" y=\"129.4355\">pbExit</text><text fill=\"#000000\" font-family=\"sans-serif\" font-size=\"12\" lengthAdjust=\"spacing\" textLength=\"49\" x=\"61\" y=\"129.4355\">enabled</text><text fill=\"#000000\" font-family=\"sans-serif\" font-size=\"12\" font-weight=\"bold\" lengthAdjust=\"spacing\" textLength=\"37\" x=\"114\" y=\"129.4355\">false</text><text fill=\"#000000\" font-family=\"sans-serif\" font-size=\"12\" font-weight=\"bold\" lengthAdjust=\"spacing\" textLength=\"52\" x=\"12\" y=\"143.4043\">pbBack</text><text fill=\"#000000\" font-family=\"sans-serif\" font-size=\"12\" lengthAdjust=\"spacing\" textLength=\"49\" x=\"68\" y=\"143.4043\">enabled</text><text fill=\"#000000\" font-family=\"sans-serif\" font-size=\"12\" font-weight=\"bold\" lengthAdjust=\"spacing\" textLength=\"37\" x=\"121\" y=\"143.4043\">false</text><text fill=\"#000000\" font-family=\"sans-serif\" font-size=\"12\" font-weight=\"bold\" lengthAdjust=\"spacing\" textLength=\"91\" x=\"12\" y=\"157.373\">pbSlideShow</text><text fill=\"#000000\" font-family=\"sans-serif\" font-size=\"12\" lengthAdjust=\"spacing\" textLength=\"49\" x=\"107\" y=\"157.373\">enabled</text><text fill=\"#000000\" font-family=\"sans-serif\" font-size=\"12\" font-weight=\"bold\" lengthAdjust=\"spacing\" textLength=\"37\" x=\"160\" y=\"157.373\">false</text><text fill=\"#000000\" font-family=\"sans-serif\" font-size=\"12\" font-weight=\"bold\" lengthAdjust=\"spacing\" textLength=\"52\" x=\"12\" y=\"171.3418\">pbNext</text><text fill=\"#000000\" font-family=\"sans-serif\" font-size=\"12\" lengthAdjust=\"spacing\" textLength=\"49\" x=\"68\" y=\"171.3418\">enabled</text><text fill=\"#000000\" font-family=\"sans-serif\" font-size=\"12\" font-weight=\"bold\" lengthAdjust=\"spacing\" textLength=\"37\" x=\"121\" y=\"171.3418\">false</text><text fill=\"#000000\" font-family=\"sans-serif\" font-size=\"12\" font-weight=\"bold\" lengthAdjust=\"spacing\" textLength=\"68\" x=\"12\" y=\"185.3105\">pbRotate</text><text fill=\"#000000\" font-family=\"sans-serif\" font-size=\"12\" lengthAdjust=\"spacing\" textLength=\"49\" x=\"84\" y=\"185.3105\">enabled</text><text fill=\"#000000\" font-family=\"sans-serif\" font-size=\"12\" font-weight=\"bold\" lengthAdjust=\"spacing\" textLength=\"37\" x=\"137\" y=\"185.3105\">false</text><text fill=\"#000000\" font-family=\"sans-serif\" font-size=\"12\" font-weight=\"bold\" lengthAdjust=\"spacing\" textLength=\"104\" x=\"12\" y=\"199.2793\">pbAddtoalbum</text><text fill=\"#000000\" font-family=\"sans-serif\" font-size=\"12\" lengthAdjust=\"spacing\" textLength=\"49\" x=\"120\" y=\"199.2793\">enabled</text><text fill=\"#000000\" font-family=\"sans-serif\" font-size=\"12\" font-weight=\"bold\" lengthAdjust=\"spacing\" textLength=\"37\" x=\"173\" y=\"199.2793\">false</text><text fill=\"#000000\" font-family=\"sans-serif\" font-size=\"12\" font-weight=\"bold\" lengthAdjust=\"spacing\" textLength=\"73\" x=\"12\" y=\"213.248\">pbShowAll</text><text fill=\"#000000\" font-family=\"sans-serif\" font-size=\"12\" lengthAdjust=\"spacing\" textLength=\"49\" x=\"89\" y=\"213.248\">enabled</text><text fill=\"#000000\" font-family=\"sans-serif\" font-size=\"12\" font-weight=\"bold\" lengthAdjust=\"spacing\" textLength=\"37\" x=\"142\" y=\"213.248\">false</text></g><g id=\"Open\"><rect fill=\"#FEFECE\" filter=\"url(#f5knct00abl64)\" height=\"134.0781\" rx=\"12.5\" ry=\"12.5\" style=\"stroke:#A80036;stroke-width:1.5;\" width=\"213\" x=\"392.5\" y=\"87\"/><line style=\"stroke:#A80036;stroke-width:1.5;\" x1=\"392.5\" x2=\"605.5\" y1=\"113.2969\" y2=\"113.2969\"/><text fill=\"#000000\" font-family=\"sans-serif\" font-size=\"14\" lengthAdjust=\"spacing\" textLength=\"39\" x=\"479.5\" y=\"104.9951\">Open</text><text fill=\"#000000\" font-family=\"sans-serif\" font-size=\"12\" font-weight=\"bold\" lengthAdjust=\"spacing\" textLength=\"45\" x=\"397.5\" y=\"129.4355\">pbExit</text><text fill=\"#000000\" font-family=\"sans-serif\" font-size=\"12\" lengthAdjust=\"spacing\" textLength=\"49\" x=\"446.5\" y=\"129.4355\">enabled</text><text fill=\"#000000\" font-family=\"sans-serif\" font-size=\"12\" font-weight=\"bold\" lengthAdjust=\"spacing\" textLength=\"32\" x=\"499.5\" y=\"129.4355\">true</text><text fill=\"#000000\" font-family=\"sans-serif\" font-size=\"12\" font-weight=\"bold\" lengthAdjust=\"spacing\" textLength=\"52\" x=\"397.5\" y=\"143.4043\">pbBack</text><text fill=\"#000000\" font-family=\"sans-serif\" font-size=\"12\" lengthAdjust=\"spacing\" textLength=\"49\" x=\"453.5\" y=\"143.4043\">enabled</text><text fill=\"#000000\" font-family=\"sans-serif\" font-size=\"12\" font-weight=\"bold\" lengthAdjust=\"spacing\" textLength=\"32\" x=\"506.5\" y=\"143.4043\">true</text><text fill=\"#000000\" font-family=\"sans-serif\" font-size=\"12\" font-weight=\"bold\" lengthAdjust=\"spacing\" textLength=\"91\" x=\"397.5\" y=\"157.373\">pbSlideShow</text><text fill=\"#000000\" font-family=\"sans-serif\" font-size=\"12\" lengthAdjust=\"spacing\" textLength=\"49\" x=\"492.5\" y=\"157.373\">enabled</text><text fill=\"#000000\" font-family=\"sans-serif\" font-size=\"12\" font-weight=\"bold\" lengthAdjust=\"spacing\" textLength=\"32\" x=\"545.5\" y=\"157.373\">true</text><text fill=\"#000000\" font-family=\"sans-serif\" font-size=\"12\" font-weight=\"bold\" lengthAdjust=\"spacing\" textLength=\"52\" x=\"397.5\" y=\"171.3418\">pbNext</text><text fill=\"#000000\" font-family=\"sans-serif\" font-size=\"12\" lengthAdjust=\"spacing\" textLength=\"49\" x=\"453.5\" y=\"171.3418\">enabled</text><text fill=\"#000000\" font-family=\"sans-serif\" font-size=\"12\" font-weight=\"bold\" lengthAdjust=\"spacing\" textLength=\"32\" x=\"506.5\" y=\"171.3418\">true</text><text fill=\"#000000\" font-family=\"sans-serif\" font-size=\"12\" font-weight=\"bold\" lengthAdjust=\"spacing\" textLength=\"68\" x=\"397.5\" y=\"185.3105\">pbRotate</text><text fill=\"#000000\" font-family=\"sans-serif\" font-size=\"12\" lengthAdjust=\"spacing\" textLength=\"49\" x=\"469.5\" y=\"185.3105\">enabled</text><text fill=\"#000000\" font-family=\"sans-serif\" font-size=\"12\" font-weight=\"bold\" lengthAdjust=\"spacing\" textLength=\"32\" x=\"522.5\" y=\"185.3105\">true</text><text fill=\"#000000\" font-family=\"sans-serif\" font-size=\"12\" font-weight=\"bold\" lengthAdjust=\"spacing\" textLength=\"104\" x=\"397.5\" y=\"199.2793\">pbAddtoalbum</text><text fill=\"#000000\" font-family=\"sans-serif\" font-size=\"12\" lengthAdjust=\"spacing\" textLength=\"49\" x=\"505.5\" y=\"199.2793\">enabled</text><text fill=\"#000000\" font-family=\"sans-serif\" font-size=\"12\" font-weight=\"bold\" lengthAdjust=\"spacing\" textLength=\"32\" x=\"558.5\" y=\"199.2793\">true</text><text fill=\"#000000\" font-family=\"sans-serif\" font-size=\"12\" font-weight=\"bold\" lengthAdjust=\"spacing\" textLength=\"73\" x=\"397.5\" y=\"213.248\">pbShowAll</text><text fill=\"#000000\" font-family=\"sans-serif\" font-size=\"12\" lengthAdjust=\"spacing\" textLength=\"49\" x=\"474.5\" y=\"213.248\">enabled</text><text fill=\"#000000\" font-family=\"sans-serif\" font-size=\"12\" font-weight=\"bold\" lengthAdjust=\"spacing\" textLength=\"32\" x=\"527.5\" y=\"213.248\">true</text></g><g id=\"Filtered\"><rect fill=\"#FEFECE\" filter=\"url(#f5knct00abl64)\" height=\"134.0781\" rx=\"12.5\" ry=\"12.5\" style=\"stroke:#A80036;stroke-width:1.5;\" width=\"213\" x=\"9.5\" y=\"298\"/><line style=\"stroke:#A80036;stroke-width:1.5;\" x1=\"9.5\" x2=\"222.5\" y1=\"324.2969\" y2=\"324.2969\"/><text fill=\"#000000\" font-family=\"sans-serif\" font-size=\"14\" lengthAdjust=\"spacing\" textLength=\"56\" x=\"88\" y=\"315.9951\">Filtered</text><text fill=\"#000000\" font-family=\"sans-serif\" font-size=\"12\" font-weight=\"bold\" lengthAdjust=\"spacing\" textLength=\"45\" x=\"14.5\" y=\"340.4355\">pbExit</text><text fill=\"#000000\" font-family=\"sans-serif\" font-size=\"12\" lengthAdjust=\"spacing\" textLength=\"49\" x=\"63.5\" y=\"340.4355\">enabled</text><text fill=\"#000000\" font-family=\"sans-serif\" font-size=\"12\" font-weight=\"bold\" lengthAdjust=\"spacing\" textLength=\"32\" x=\"116.5\" y=\"340.4355\">true</text><text fill=\"#000000\" font-family=\"sans-serif\" font-size=\"12\" font-weight=\"bold\" lengthAdjust=\"spacing\" textLength=\"52\" x=\"14.5\" y=\"354.4043\">pbBack</text><text fill=\"#000000\" font-family=\"sans-serif\" font-size=\"12\" lengthAdjust=\"spacing\" textLength=\"49\" x=\"70.5\" y=\"354.4043\">enabled</text><text fill=\"#000000\" font-family=\"sans-serif\" font-size=\"12\" font-weight=\"bold\" lengthAdjust=\"spacing\" textLength=\"32\" x=\"123.5\" y=\"354.4043\">true</text><text fill=\"#000000\" font-family=\"sans-serif\" font-size=\"12\" font-weight=\"bold\" lengthAdjust=\"spacing\" textLength=\"91\" x=\"14.5\" y=\"368.373\">pbSlideShow</text><text fill=\"#000000\" font-family=\"sans-serif\" font-size=\"12\" lengthAdjust=\"spacing\" textLength=\"49\" x=\"109.5\" y=\"368.373\">enabled</text><text fill=\"#000000\" font-family=\"sans-serif\" font-size=\"12\" font-weight=\"bold\" lengthAdjust=\"spacing\" textLength=\"32\" x=\"162.5\" y=\"368.373\">true</text><text fill=\"#000000\" font-family=\"sans-serif\" font-size=\"12\" font-weight=\"bold\" lengthAdjust=\"spacing\" textLength=\"52\" x=\"14.5\" y=\"382.3418\">pbNext</text><text fill=\"#000000\" font-family=\"sans-serif\" font-size=\"12\" lengthAdjust=\"spacing\" textLength=\"49\" x=\"70.5\" y=\"382.3418\">enabled</text><text fill=\"#000000\" font-family=\"sans-serif\" font-size=\"12\" font-weight=\"bold\" lengthAdjust=\"spacing\" textLength=\"32\" x=\"123.5\" y=\"382.3418\">true</text><text fill=\"#000000\" font-family=\"sans-serif\" font-size=\"12\" font-weight=\"bold\" lengthAdjust=\"spacing\" textLength=\"68\" x=\"14.5\" y=\"396.3105\">pbRotate</text><text fill=\"#000000\" font-family=\"sans-serif\" font-size=\"12\" lengthAdjust=\"spacing\" textLength=\"49\" x=\"86.5\" y=\"396.3105\">enabled</text><text fill=\"#000000\" font-family=\"sans-serif\" font-size=\"12\" font-weight=\"bold\" lengthAdjust=\"spacing\" textLength=\"32\" x=\"139.5\" y=\"396.3105\">true</text><text fill=\"#000000\" font-family=\"sans-serif\" font-size=\"12\" font-weight=\"bold\" lengthAdjust=\"spacing\" textLength=\"104\" x=\"14.5\" y=\"410.2793\">pbAddtoalbum</text><text fill=\"#000000\" font-family=\"sans-serif\" font-size=\"12\" lengthAdjust=\"spacing\" textLength=\"49\" x=\"122.5\" y=\"410.2793\">enabled</text><text fill=\"#000000\" font-family=\"sans-serif\" font-size=\"12\" font-weight=\"bold\" lengthAdjust=\"spacing\" textLength=\"32\" x=\"175.5\" y=\"410.2793\">true</text><text fill=\"#000000\" font-family=\"sans-serif\" font-size=\"12\" font-weight=\"bold\" lengthAdjust=\"spacing\" textLength=\"73\" x=\"14.5\" y=\"424.248\">pbShowAll</text><text fill=\"#000000\" font-family=\"sans-serif\" font-size=\"12\" lengthAdjust=\"spacing\" textLength=\"49\" x=\"91.5\" y=\"424.248\">enabled</text><text fill=\"#000000\" font-family=\"sans-serif\" font-size=\"12\" font-weight=\"bold\" lengthAdjust=\"spacing\" textLength=\"32\" x=\"144.5\" y=\"424.248\">true</text></g><!--MD5=[a50b244c970d250df4d252e30ec8ebd5]\n",
       "link *start to Startup--><path d=\"M116,26.348 C116,38.232 116,59.868 116,81.936 \" fill=\"none\" id=\"*start-to-Startup\" style=\"stroke:#A80036;stroke-width:1.0;\"/><polygon fill=\"#A80036\" points=\"116,86.947,120,77.947,116,81.947,112,77.947,116,86.947\" style=\"stroke:#A80036;stroke-width:1.0;\"/><!--MD5=[e79221595f9032ff3a99fc62ef59da71]\n",
       "link Startup to Open--><path d=\"M225.197,172.289 C231.293,172.958 237.342,173.539 243.25,174 C301.295,178.534 316.212,178.623 374.25,174 C378.493,173.662 382.81,173.26 387.165,172.807 \" fill=\"none\" id=\"Startup-to-Open\" style=\"stroke:#A80036;stroke-width:1.0;\"/><polygon fill=\"#A80036\" points=\"392.292,172.251,382.9135,169.2436,387.3211,172.7895,383.7752,177.1971,392.292,172.251\" style=\"stroke:#A80036;stroke-width:1.0;\"/><text fill=\"#000000\" font-family=\"sans-serif\" font-size=\"13\" font-weight=\"bold\" lengthAdjust=\"spacing\" textLength=\"45\" x=\"244.25\" y=\"170.0669\">image</text><text fill=\"#000000\" font-family=\"sans-serif\" font-size=\"13\" lengthAdjust=\"spacing\" textLength=\"80\" x=\"293.25\" y=\"170.0669\">clicked(bool)</text><!--MD5=[2ac6970a70fb3db941fa5ffb3f38b230]\n",
       "link Open to Startup--><path d=\"M392.26,154 C341.917,154 281.783,154 230.492,154 \" fill=\"none\" id=\"Open-to-Startup\" style=\"stroke:#A80036;stroke-width:1.0;\"/><polygon fill=\"#A80036\" points=\"225.24,154,234.24,158,230.24,154,234.24,150,225.24,154\" style=\"stroke:#A80036;stroke-width:1.0;\"/><text fill=\"#000000\" font-family=\"sans-serif\" font-size=\"13\" font-weight=\"bold\" lengthAdjust=\"spacing\" textLength=\"47\" x=\"243.25\" y=\"147.0669\">pbExit</text><text fill=\"#000000\" font-family=\"sans-serif\" font-size=\"13\" lengthAdjust=\"spacing\" textLength=\"80\" x=\"294.25\" y=\"147.0669\">clicked(bool)</text><!--MD5=[c9ab70637f57f4bdb80a5c5bd2717ab5]\n",
       "link Startup to Filtered--><path d=\"M47.1251,221.227 C40.5922,230.588 34.9454,240.592 31,251 C25.4492,265.643 27.9422,280.004 34.815,293.315 \" fill=\"none\" id=\"Startup-to-Filtered\" style=\"stroke:#A80036;stroke-width:1.0;\"/><polygon fill=\"#A80036\" points=\"37.3084,297.788,36.4205,287.9792,34.8741,293.4206,29.4327,291.8742,37.3084,297.788\" style=\"stroke:#A80036;stroke-width:1.0;\"/><text fill=\"#000000\" font-family=\"sans-serif\" font-size=\"13\" font-weight=\"bold\" lengthAdjust=\"spacing\" textLength=\"38\" x=\"32\" y=\"264.0669\">pbOk</text><text fill=\"#000000\" font-family=\"sans-serif\" font-size=\"13\" lengthAdjust=\"spacing\" textLength=\"80\" x=\"74\" y=\"264.0669\">clicked(bool)</text><!--MD5=[4ce4b0a0b99b3eb20a98f329b59b1ee2]\n",
       "link Filtered to Startup--><path d=\"M154.926,297.802 C159.931,282.683 162.312,266.498 159,251 C157.246,242.792 154.735,234.437 151.797,226.252 \" fill=\"none\" id=\"Filtered-to-Startup\" style=\"stroke:#A80036;stroke-width:1.0;\"/><polygon fill=\"#A80036\" points=\"149.915,221.18,149.2972,231.0095,151.6551,225.8674,156.7971,228.2253,149.915,221.18\" style=\"stroke:#A80036;stroke-width:1.0;\"/><text fill=\"#000000\" font-family=\"sans-serif\" font-size=\"13\" font-weight=\"bold\" lengthAdjust=\"spacing\" textLength=\"76\" x=\"161\" y=\"264.0669\">pbShowAll</text><text fill=\"#000000\" font-family=\"sans-serif\" font-size=\"13\" lengthAdjust=\"spacing\" textLength=\"80\" x=\"241\" y=\"264.0669\">clicked(bool)</text><!--MD5=[2035a2ca58edee2f4ba0adf4a989c554]\n",
       "@startuml\n",
       "[*] - -> Startup\n",
       "Startup : **pbExit** enabled **false**\n",
       "Startup : **pbBack** enabled **false**\n",
       "Startup : **pbSlideShow** enabled **false**\n",
       "Startup : **pbNext** enabled **false**\n",
       "Startup : **pbRotate** enabled **false**\n",
       "Startup : **pbAddtoalbum** enabled **false**\n",
       "Startup : **pbShowAll** enabled **false**\n",
       "\n",
       "Startup -down> Open : **image** clicked(bool)\n",
       "Open -down> Startup : **pbExit** clicked(bool)\n",
       "\n",
       "Open : **pbExit** enabled **true**\n",
       "Open : **pbBack** enabled **true**\n",
       "Open : **pbSlideShow** enabled **true**\n",
       "Open : **pbNext** enabled **true**\n",
       "Open : **pbRotate** enabled **true**\n",
       "Open : **pbAddtoalbum** enabled **true**\n",
       "Open : **pbShowAll** enabled **true**\n",
       "\n",
       "Startup - -> Filtered : **pbOk** clicked(bool)\n",
       "Filtered - -> Startup : **pbShowAll** clicked(bool)\n",
       "\n",
       "Filtered : **pbExit** enabled **true**\n",
       "Filtered : **pbBack** enabled **true**\n",
       "Filtered : **pbSlideShow** enabled **true**\n",
       "Filtered : **pbNext** enabled **true**\n",
       "Filtered : **pbRotate** enabled **true**\n",
       "Filtered : **pbAddtoalbum** enabled **true**\n",
       "Filtered : **pbShowAll** enabled **true**\n",
       "@enduml\n",
       "\n",
       "PlantUML version 1.2021.2beta2(Unknown compile time)\n",
       "(GPL source distribution)\n",
       "Java Runtime: Java(TM) SE Runtime Environment\n",
       "JVM: Java HotSpot(TM) 64-Bit Server VM\n",
       "Default Encoding: UTF-8\n",
       "Language: en\n",
       "Country: US\n",
       "--></g></svg>"
      ],
      "text/plain": [
       "<IPython.core.display.SVG object>"
      ]
     },
     "execution_count": 2,
     "metadata": {},
     "output_type": "execute_result"
    }
   ],
   "source": [
    "%%plantuml\n",
    "\n",
    "@startuml\n",
    "\n",
    "[*] --> Startup\n",
    "Startup : **pbExit** enabled **false**\n",
    "Startup : **pbBack** enabled **false**\n",
    "Startup : **pbSlideShow** enabled **false**\n",
    "Startup : **pbNext** enabled **false**\n",
    "Startup : **pbRotate** enabled **false**\n",
    "Startup : **pbAddtoalbum** enabled **false**\n",
    "Startup : **pbShowAll** enabled **false**\n",
    "\n",
    "Startup -down> Open : **image** clicked(bool)\n",
    "Open -down> Startup : **pbExit** clicked(bool)\n",
    "\n",
    "Open : **pbExit** enabled **true**\n",
    "Open : **pbBack** enabled **true**\n",
    "Open : **pbSlideShow** enabled **true**\n",
    "Open : **pbNext** enabled **true**\n",
    "Open : **pbRotate** enabled **true**\n",
    "Open : **pbAddtoalbum** enabled **true**\n",
    "Open : **pbShowAll** enabled **true**\n",
    "\n",
    "Startup --> Filtered : **pbOk** clicked(bool)\n",
    "Filtered --> Startup : **pbShowAll** clicked(bool)\n",
    "\n",
    "Filtered : **pbExit** enabled **true**\n",
    "Filtered : **pbBack** enabled **true**\n",
    "Filtered : **pbSlideShow** enabled **true**\n",
    "Filtered : **pbNext** enabled **true**\n",
    "Filtered : **pbRotate** enabled **true**\n",
    "Filtered : **pbAddtoalbum** enabled **true**\n",
    "Filtered : **pbShowAll** enabled **true**\n",
    "    \n",
    "\n",
    "@enduml"
   ]
  },
  {
   "cell_type": "code",
   "execution_count": 3,
   "metadata": {},
   "outputs": [
    {
     "data": {
      "image/svg+xml": [
       "<svg xmlns=\"http://www.w3.org/2000/svg\" xmlns:xlink=\"http://www.w3.org/1999/xlink\" contentScriptType=\"application/ecmascript\" contentStyleType=\"text/css\" height=\"1009px\" preserveAspectRatio=\"none\" style=\"width:959px;height:1009px;\" version=\"1.1\" viewBox=\"0 0 959 1009\" width=\"959px\" zoomAndPan=\"magnify\"><defs><filter height=\"300%\" id=\"f1szxg4ehzykyr\" width=\"300%\" x=\"-1\" y=\"-1\"><feGaussianBlur result=\"blurOut\" stdDeviation=\"2.0\"/><feColorMatrix in=\"blurOut\" result=\"blurOut2\" type=\"matrix\" values=\"0 0 0 0 0 0 0 0 0 0 0 0 0 0 0 0 0 0 .4 0\"/><feOffset dx=\"4.0\" dy=\"4.0\" in=\"blurOut2\" result=\"blurOut3\"/><feBlend in=\"SourceGraphic\" in2=\"blurOut3\" mode=\"normal\"/></filter></defs><g><text fill=\"#000000\" font-family=\"sans-serif\" font-size=\"18\" lengthAdjust=\"spacing\" textLength=\"268\" x=\"344.5\" y=\"26.708\">Algorytm przycinania zdjecia</text><ellipse cx=\"375\" cy=\"40.9531\" fill=\"#000000\" filter=\"url(#f1szxg4ehzykyr)\" rx=\"10\" ry=\"10\" style=\"stroke:none;stroke-width:1.0;\"/><rect fill=\"#FEFECE\" filter=\"url(#f1szxg4ehzykyr)\" height=\"127.7813\" rx=\"12.5\" ry=\"12.5\" style=\"stroke:#A80036;stroke-width:1.5;\" width=\"641\" x=\"54.5\" y=\"70.9531\"/><text fill=\"#000000\" font-family=\"sans-serif\" font-size=\"12\" lengthAdjust=\"spacing\" textLength=\"421\" x=\"64.5\" y=\"92.0918\">W konstruktorze okna Edit ustawiamy metody dla Typu GraphicsView:</text><line style=\"stroke:#A80036;stroke-width:1.0;\" x1=\"54.5\" x2=\"695.5\" y1=\"99.9219\" y2=\"99.9219\"/><text fill=\"#000000\" font-family=\"sans-serif\" font-size=\"12\" lengthAdjust=\"spacing\" textLength=\"378\" x=\"64.5\" y=\"116.0605\">ui-&gt;graphicsView-&gt;setScene(scene) - ustawienie sceny dla ui</text><text fill=\"#000000\" font-family=\"sans-serif\" font-size=\"12\" lengthAdjust=\"spacing\" textLength=\"380\" x=\"64.5\" y=\"130.0293\">ui-&gt;graphicsView-&gt;setMinimumHeight(imageObject-&gt;height())</text><text fill=\"#000000\" font-family=\"sans-serif\" font-size=\"12\" lengthAdjust=\"spacing\" textLength=\"370\" x=\"64.5\" y=\"143.998\">ui-&gt;graphicsView-&gt;setMinimumWidth(imageObject-&gt;width())</text><text fill=\"#000000\" font-family=\"sans-serif\" font-size=\"12\" lengthAdjust=\"spacing\" textLength=\"384\" x=\"64.5\" y=\"157.9668\">ui-&gt;graphicsView-&gt;setMaximumHeight(imageObject-&gt;height())</text><text fill=\"#000000\" font-family=\"sans-serif\" font-size=\"12\" lengthAdjust=\"spacing\" textLength=\"374\" x=\"64.5\" y=\"171.9355\">ui-&gt;graphicsView-&gt;setMaximumWidth(imageObject-&gt;width())</text><text fill=\"#000000\" font-family=\"sans-serif\" font-size=\"12\" lengthAdjust=\"spacing\" textLength=\"621\" x=\"64.5\" y=\"185.9043\">ui-&gt;graphicsView-&gt;setDragMode(QGraphicsView::RubberBandDrag) - możliwość zaznaczania obszaru</text><rect fill=\"#FEFECE\" filter=\"url(#f1szxg4ehzykyr)\" height=\"33.9688\" rx=\"12.5\" ry=\"12.5\" style=\"stroke:#A80036;stroke-width:1.5;\" width=\"129\" x=\"310.5\" y=\"218.7344\"/><text fill=\"#000000\" font-family=\"sans-serif\" font-size=\"12\" lengthAdjust=\"spacing\" textLength=\"109\" x=\"320.5\" y=\"239.873\">mousepressEvent</text><path d=\"M10,326.6719 L10,351.8047 L740,351.8047 L740,336.6719 L730,326.6719 L10,326.6719 \" fill=\"#FBFB77\" filter=\"url(#f1szxg4ehzykyr)\" style=\"stroke:#A80036;stroke-width:1.0;\"/><path d=\"M730,326.6719 L730,336.6719 L740,336.6719 L730,326.6719 \" fill=\"#FBFB77\" style=\"stroke:#A80036;stroke-width:1.0;\"/><text fill=\"#000000\" font-family=\"sans-serif\" font-size=\"13\" lengthAdjust=\"spacing\" textLength=\"709\" x=\"16\" y=\"343.7388\">Wywoływanie slotu dopóki lewy przycisk myszy nie zostanie puszczony a wymiary RubberBanda zmieniają się</text><rect fill=\"#FEFECE\" filter=\"url(#f1szxg4ehzykyr)\" height=\"33.9688\" rx=\"12.5\" ry=\"12.5\" style=\"stroke:#A80036;stroke-width:1.5;\" width=\"325\" x=\"212.5\" y=\"371.8047\"/><text fill=\"#000000\" font-family=\"sans-serif\" font-size=\"12\" lengthAdjust=\"spacing\" textLength=\"305\" x=\"222.5\" y=\"392.9434\">_rubberBandChanged(const QRect &amp;viewportRect)</text><polygon fill=\"#FEFECE\" filter=\"url(#f1szxg4ehzykyr)\" points=\"354,440.7734,396,440.7734,408,452.7734,396,464.7734,354,464.7734,342,452.7734,354,440.7734\" style=\"stroke:#A80036;stroke-width:1.5;\"/><text fill=\"#000000\" font-family=\"sans-serif\" font-size=\"11\" lengthAdjust=\"spacing\" textLength=\"42\" x=\"354\" y=\"456.5815\">change</text><text fill=\"#000000\" font-family=\"sans-serif\" font-size=\"11\" lengthAdjust=\"spacing\" textLength=\"23\" x=\"319\" y=\"450.1792\">true</text><text fill=\"#000000\" font-family=\"sans-serif\" font-size=\"11\" lengthAdjust=\"spacing\" textLength=\"28\" x=\"408\" y=\"450.1792\">false</text><rect fill=\"#FEFECE\" filter=\"url(#f1szxg4ehzykyr)\" height=\"33.9688\" rx=\"12.5\" ry=\"12.5\" style=\"stroke:#A80036;stroke-width:1.5;\" width=\"111\" x=\"255.25\" y=\"474.7734\"/><text fill=\"#000000\" font-family=\"sans-serif\" font-size=\"12\" lengthAdjust=\"spacing\" textLength=\"91\" x=\"265.25\" y=\"495.9121\">change = false</text><rect fill=\"#FEFECE\" filter=\"url(#f1szxg4ehzykyr)\" height=\"33.9688\" rx=\"12.5\" ry=\"12.5\" style=\"stroke:#A80036;stroke-width:1.5;\" width=\"106\" x=\"386.25\" y=\"474.7734\"/><text fill=\"#000000\" font-family=\"sans-serif\" font-size=\"12\" lengthAdjust=\"spacing\" textLength=\"86\" x=\"396.25\" y=\"495.9121\">change = true</text><polygon fill=\"#FEFECE\" filter=\"url(#f1szxg4ehzykyr)\" points=\"375,514.7422,387,526.7422,375,538.7422,363,526.7422,375,514.7422\" style=\"stroke:#A80036;stroke-width:1.5;\"/><rect fill=\"#FEFECE\" filter=\"url(#f1szxg4ehzykyr)\" height=\"33.9688\" rx=\"12.5\" ry=\"12.5\" style=\"stroke:#A80036;stroke-width:1.5;\" width=\"128\" x=\"311\" y=\"272.7031\"/><text fill=\"#000000\" font-family=\"sans-serif\" font-size=\"12\" lengthAdjust=\"spacing\" textLength=\"108\" x=\"321\" y=\"293.8418\">mousemoveEvent</text><polygon fill=\"#FEFECE\" filter=\"url(#f1szxg4ehzykyr)\" points=\"317.5,558.7422,432.5,558.7422,444.5,570.7422,432.5,582.7422,317.5,582.7422,305.5,570.7422,317.5,558.7422\" style=\"stroke:#A80036;stroke-width:1.5;\"/><text fill=\"#000000\" font-family=\"sans-serif\" font-size=\"11\" lengthAdjust=\"spacing\" textLength=\"115\" x=\"317.5\" y=\"574.5503\">viewportRect.isNull()</text><text fill=\"#000000\" font-family=\"sans-serif\" font-size=\"11\" lengthAdjust=\"spacing\" textLength=\"14\" x=\"444.5\" y=\"568.1479\">no</text><rect fill=\"#FEFECE\" filter=\"url(#f1szxg4ehzykyr)\" height=\"33.9688\" rx=\"12.5\" ry=\"12.5\" style=\"stroke:#A80036;stroke-width:1.5;\" width=\"192\" x=\"750\" y=\"403.2383\"/><text fill=\"#000000\" font-family=\"sans-serif\" font-size=\"12\" lengthAdjust=\"spacing\" textLength=\"168\" x=\"764\" y=\"424.377\">arr[change] = viewportRect</text><rect fill=\"#FEFECE\" filter=\"url(#f1szxg4ehzykyr)\" height=\"33.9688\" rx=\"12.5\" ry=\"12.5\" style=\"stroke:#A80036;stroke-width:1.5;\" width=\"131\" x=\"309.5\" y=\"624.1411\"/><text fill=\"#000000\" font-family=\"sans-serif\" font-size=\"12\" lengthAdjust=\"spacing\" textLength=\"111\" x=\"319.5\" y=\"645.2798\">change = !change</text><rect fill=\"#FEFECE\" filter=\"url(#f1szxg4ehzykyr)\" height=\"33.9688\" rx=\"12.5\" ry=\"12.5\" style=\"stroke:#A80036;stroke-width:1.5;\" width=\"297\" x=\"226.5\" y=\"678.1099\"/><text fill=\"#000000\" font-family=\"sans-serif\" font-size=\"12\" lengthAdjust=\"spacing\" textLength=\"277\" x=\"236.5\" y=\"699.2485\">QPixmap cropped = image.copy(arr[change])</text><rect fill=\"#FEFECE\" filter=\"url(#f1szxg4ehzykyr)\" height=\"33.9688\" rx=\"12.5\" ry=\"12.5\" style=\"stroke:#A80036;stroke-width:1.5;\" width=\"319\" x=\"215.5\" y=\"732.0786\"/><text fill=\"#000000\" font-family=\"sans-serif\" font-size=\"12\" lengthAdjust=\"spacing\" textLength=\"299\" x=\"225.5\" y=\"753.2173\">auto crops = new Cropped_Image(cropped, this)</text><path d=\"M450,790.4653 L450,799.0317 L430,803.0317 L450,807.0317 L450,815.5981 A0,0 0 0 0 450,815.5981 L719,815.5981 A0,0 0 0 0 719,815.5981 L719,800.4653 L709,790.4653 L450,790.4653 A0,0 0 0 0 450,790.4653 \" fill=\"#FBFB77\" filter=\"url(#f1szxg4ehzykyr)\" style=\"stroke:#A80036;stroke-width:1.0;\"/><path d=\"M709,790.4653 L709,800.4653 L719,800.4653 L709,790.4653 \" fill=\"#FBFB77\" style=\"stroke:#A80036;stroke-width:1.0;\"/><text fill=\"#000000\" font-family=\"sans-serif\" font-size=\"13\" lengthAdjust=\"spacing\" textLength=\"248\" x=\"456\" y=\"807.5322\">wywołanie nowego okna dialogowego;</text><rect fill=\"#FEFECE\" filter=\"url(#f1szxg4ehzykyr)\" height=\"33.9688\" rx=\"12.5\" ry=\"12.5\" style=\"stroke:#A80036;stroke-width:1.5;\" width=\"110\" x=\"320\" y=\"786.0474\"/><text fill=\"#000000\" font-family=\"sans-serif\" font-size=\"12\" lengthAdjust=\"spacing\" textLength=\"90\" x=\"330\" y=\"807.186\">crops-&gt;exec()</text><polygon fill=\"#FEFECE\" filter=\"url(#f1szxg4ehzykyr)\" points=\"121,840.0161,191,840.0161,203,852.0161,191,864.0161,121,864.0161,109,852.0161,121,840.0161\" style=\"stroke:#A80036;stroke-width:1.5;\"/><text fill=\"#000000\" font-family=\"sans-serif\" font-size=\"11\" lengthAdjust=\"spacing\" textLength=\"47\" x=\"160\" y=\"874.2266\">clicked()</text><text fill=\"#000000\" font-family=\"sans-serif\" font-size=\"11\" lengthAdjust=\"spacing\" textLength=\"70\" x=\"121\" y=\"855.8242\">Save Image</text><rect fill=\"#FEFECE\" filter=\"url(#f1szxg4ehzykyr)\" height=\"33.9688\" rx=\"12.5\" ry=\"12.5\" style=\"stroke:#A80036;stroke-width:1.5;\" width=\"176\" x=\"68\" y=\"896.8208\"/><text fill=\"#000000\" font-family=\"sans-serif\" font-size=\"12\" lengthAdjust=\"spacing\" textLength=\"156\" x=\"78\" y=\"917.9595\">zapisanie wycinka zdjęcia</text><polygon fill=\"#FEFECE\" filter=\"url(#f1szxg4ehzykyr)\" points=\"344,840.0161,383,840.0161,395,852.0161,383,864.0161,344,864.0161,332,852.0161,344,840.0161\" style=\"stroke:#A80036;stroke-width:1.5;\"/><text fill=\"#000000\" font-family=\"sans-serif\" font-size=\"11\" lengthAdjust=\"spacing\" textLength=\"47\" x=\"367.5\" y=\"874.2266\">clicked()</text><text fill=\"#000000\" font-family=\"sans-serif\" font-size=\"11\" lengthAdjust=\"spacing\" textLength=\"39\" x=\"344\" y=\"855.8242\">Cancel</text><text fill=\"#000000\" font-family=\"sans-serif\" font-size=\"11\" lengthAdjust=\"spacing\" textLength=\"87\" x=\"395\" y=\"849.4219\">zamkniecie &quot;x&quot;</text><rect fill=\"#FEFECE\" filter=\"url(#f1szxg4ehzykyr)\" height=\"33.9688\" rx=\"12.5\" ry=\"12.5\" style=\"stroke:#A80036;stroke-width:1.5;\" width=\"199\" x=\"264\" y=\"896.8208\"/><text fill=\"#000000\" font-family=\"sans-serif\" font-size=\"12\" lengthAdjust=\"spacing\" textLength=\"179\" x=\"274\" y=\"917.9595\">zamknięcie okna z wycinkiem</text><rect fill=\"#FEFECE\" filter=\"url(#f1szxg4ehzykyr)\" height=\"33.9688\" rx=\"12.5\" ry=\"12.5\" style=\"stroke:#A80036;stroke-width:1.5;\" width=\"199\" x=\"483\" y=\"893.4185\"/><text fill=\"#000000\" font-family=\"sans-serif\" font-size=\"12\" lengthAdjust=\"spacing\" textLength=\"179\" x=\"493\" y=\"914.5571\">zamknięcie okna z wycinkiem</text><ellipse cx=\"375\" cy=\"981.7896\" fill=\"#FFFFFF\" filter=\"url(#f1szxg4ehzykyr)\" rx=\"11\" ry=\"11\" style=\"stroke:#000000;stroke-width:1.0;\"/><ellipse cx=\"375\" cy=\"981.7896\" fill=\"#000000\" rx=\"6\" ry=\"6\" style=\"stroke:#7F7F7F;stroke-width:1.0;\"/><line style=\"stroke:#A80036;stroke-width:1.5;\" x1=\"375\" x2=\"375\" y1=\"50.9531\" y2=\"70.9531\"/><polygon fill=\"#A80036\" points=\"371,60.9531,375,70.9531,379,60.9531,375,64.9531\" style=\"stroke:#A80036;stroke-width:1.0;\"/><line style=\"stroke:#A80036;stroke-width:1.5;\" x1=\"375\" x2=\"375\" y1=\"198.7344\" y2=\"218.7344\"/><polygon fill=\"#A80036\" points=\"371,208.7344,375,218.7344,379,208.7344,375,212.7344\" style=\"stroke:#A80036;stroke-width:1.0;\"/><line style=\"stroke:#A80036;stroke-width:1.5;\" x1=\"375\" x2=\"375\" y1=\"351.8047\" y2=\"371.8047\"/><polygon fill=\"#A80036\" points=\"371,361.8047,375,371.8047,379,361.8047,375,365.8047\" style=\"stroke:#A80036;stroke-width:1.0;\"/><line style=\"stroke:#A80036;stroke-width:1.5;\" x1=\"342\" x2=\"310.75\" y1=\"452.7734\" y2=\"452.7734\"/><line style=\"stroke:#A80036;stroke-width:1.5;\" x1=\"310.75\" x2=\"310.75\" y1=\"452.7734\" y2=\"474.7734\"/><polygon fill=\"#A80036\" points=\"306.75,464.7734,310.75,474.7734,314.75,464.7734,310.75,468.7734\" style=\"stroke:#A80036;stroke-width:1.0;\"/><line style=\"stroke:#A80036;stroke-width:1.5;\" x1=\"408\" x2=\"439.25\" y1=\"452.7734\" y2=\"452.7734\"/><line style=\"stroke:#A80036;stroke-width:1.5;\" x1=\"439.25\" x2=\"439.25\" y1=\"452.7734\" y2=\"474.7734\"/><polygon fill=\"#A80036\" points=\"435.25,464.7734,439.25,474.7734,443.25,464.7734,439.25,468.7734\" style=\"stroke:#A80036;stroke-width:1.0;\"/><line style=\"stroke:#A80036;stroke-width:1.5;\" x1=\"310.75\" x2=\"310.75\" y1=\"508.7422\" y2=\"526.7422\"/><line style=\"stroke:#A80036;stroke-width:1.5;\" x1=\"310.75\" x2=\"363\" y1=\"526.7422\" y2=\"526.7422\"/><polygon fill=\"#A80036\" points=\"353,522.7422,363,526.7422,353,530.7422,357,526.7422\" style=\"stroke:#A80036;stroke-width:1.0;\"/><line style=\"stroke:#A80036;stroke-width:1.5;\" x1=\"439.25\" x2=\"439.25\" y1=\"508.7422\" y2=\"526.7422\"/><line style=\"stroke:#A80036;stroke-width:1.5;\" x1=\"439.25\" x2=\"387\" y1=\"526.7422\" y2=\"526.7422\"/><polygon fill=\"#A80036\" points=\"397,522.7422,387,526.7422,397,530.7422,393,526.7422\" style=\"stroke:#A80036;stroke-width:1.0;\"/><line style=\"stroke:#A80036;stroke-width:1.5;\" x1=\"375\" x2=\"375\" y1=\"405.7734\" y2=\"440.7734\"/><polygon fill=\"#A80036\" points=\"371,430.7734,375,440.7734,379,430.7734,375,434.7734\" style=\"stroke:#A80036;stroke-width:1.0;\"/><line style=\"stroke:#A80036;stroke-width:1.5;\" x1=\"375\" x2=\"375\" y1=\"306.6719\" y2=\"326.6719\"/><polygon fill=\"#A80036\" points=\"371,316.6719,375,326.6719,379,316.6719,375,320.6719\" style=\"stroke:#A80036;stroke-width:1.0;\"/><line style=\"stroke:#A80036;stroke-width:1.5;\" x1=\"444.5\" x2=\"846\" y1=\"570.7422\" y2=\"570.7422\"/><line style=\"stroke:#A80036;stroke-width:1.5;\" x1=\"846\" x2=\"846\" y1=\"437.207\" y2=\"570.7422\"/><polygon fill=\"#A80036\" points=\"842,447.207,846,437.207,850,447.207,846,443.207\" style=\"stroke:#A80036;stroke-width:1.0;\"/><line style=\"stroke:#A80036;stroke-width:1.5;\" x1=\"846\" x2=\"846\" y1=\"289.6875\" y2=\"403.2383\"/><line style=\"stroke:#A80036;stroke-width:1.5;\" x1=\"846\" x2=\"439\" y1=\"289.6875\" y2=\"289.6875\"/><polygon fill=\"#A80036\" points=\"449,285.6875,439,289.6875,449,293.6875,445,289.6875\" style=\"stroke:#A80036;stroke-width:1.0;\"/><line style=\"stroke:#A80036;stroke-width:1.5;\" x1=\"375\" x2=\"375\" y1=\"538.7422\" y2=\"558.7422\"/><polygon fill=\"#A80036\" points=\"371,548.7422,375,558.7422,379,548.7422,375,552.7422\" style=\"stroke:#A80036;stroke-width:1.0;\"/><line style=\"stroke:#A80036;stroke-width:1.5;\" x1=\"375\" x2=\"375\" y1=\"252.7031\" y2=\"272.7031\"/><polygon fill=\"#A80036\" points=\"371,262.7031,375,272.7031,379,262.7031,375,266.7031\" style=\"stroke:#A80036;stroke-width:1.0;\"/><line style=\"stroke:#A80036;stroke-width:1.5;\" x1=\"375\" x2=\"375\" y1=\"582.7422\" y2=\"624.1411\"/><polygon fill=\"#A80036\" points=\"371,614.1411,375,624.1411,379,614.1411,375,618.1411\" style=\"stroke:#A80036;stroke-width:1.0;\"/><text fill=\"#000000\" font-family=\"sans-serif\" font-size=\"11\" lengthAdjust=\"spacing\" textLength=\"244\" x=\"379\" y=\"604.0469\">yes - puszczenie lewego przycisku myszy</text><line style=\"stroke:#A80036;stroke-width:1.5;\" x1=\"375\" x2=\"375\" y1=\"658.1099\" y2=\"678.1099\"/><polygon fill=\"#A80036\" points=\"371,668.1099,375,678.1099,379,668.1099,375,672.1099\" style=\"stroke:#A80036;stroke-width:1.0;\"/><line style=\"stroke:#A80036;stroke-width:1.5;\" x1=\"375\" x2=\"375\" y1=\"712.0786\" y2=\"732.0786\"/><polygon fill=\"#A80036\" points=\"371,722.0786,375,732.0786,379,722.0786,375,726.0786\" style=\"stroke:#A80036;stroke-width:1.0;\"/><line style=\"stroke:#A80036;stroke-width:1.5;\" x1=\"375\" x2=\"375\" y1=\"766.0474\" y2=\"786.0474\"/><polygon fill=\"#A80036\" points=\"371,776.0474,375,786.0474,379,776.0474,375,780.0474\" style=\"stroke:#A80036;stroke-width:1.0;\"/><line style=\"stroke:#A80036;stroke-width:1.5;\" x1=\"156\" x2=\"156\" y1=\"864.0161\" y2=\"896.8208\"/><polygon fill=\"#A80036\" points=\"152,886.8208,156,896.8208,160,886.8208,156,890.8208\" style=\"stroke:#A80036;stroke-width:1.0;\"/><line style=\"stroke:#A80036;stroke-width:1.5;\" x1=\"156\" x2=\"156\" y1=\"930.7896\" y2=\"950.7896\"/><polygon fill=\"#A80036\" points=\"152,940.7896,156,950.7896,160,940.7896,156,944.7896\" style=\"stroke:#A80036;stroke-width:1.0;\"/><line style=\"stroke:#A80036;stroke-width:1.5;\" x1=\"363.5\" x2=\"363.5\" y1=\"864.0161\" y2=\"896.8208\"/><polygon fill=\"#A80036\" points=\"359.5,886.8208,363.5,896.8208,367.5,886.8208,363.5,890.8208\" style=\"stroke:#A80036;stroke-width:1.0;\"/><line style=\"stroke:#A80036;stroke-width:1.5;\" x1=\"363.5\" x2=\"363.5\" y1=\"930.7896\" y2=\"950.7896\"/><polygon fill=\"#A80036\" points=\"359.5,940.7896,363.5,950.7896,367.5,940.7896,363.5,944.7896\" style=\"stroke:#A80036;stroke-width:1.0;\"/><line style=\"stroke:#A80036;stroke-width:1.5;\" x1=\"203\" x2=\"332\" y1=\"852.0161\" y2=\"852.0161\"/><polygon fill=\"#A80036\" points=\"322,848.0161,332,852.0161,322,856.0161,326,852.0161\" style=\"stroke:#A80036;stroke-width:1.0;\"/><line style=\"stroke:#A80036;stroke-width:1.5;\" x1=\"375\" x2=\"375\" y1=\"820.0161\" y2=\"825.0161\"/><line style=\"stroke:#A80036;stroke-width:1.5;\" x1=\"375\" x2=\"156\" y1=\"825.0161\" y2=\"825.0161\"/><line style=\"stroke:#A80036;stroke-width:1.5;\" x1=\"156\" x2=\"156\" y1=\"825.0161\" y2=\"840.0161\"/><polygon fill=\"#A80036\" points=\"152,830.0161,156,840.0161,160,830.0161,156,834.0161\" style=\"stroke:#A80036;stroke-width:1.0;\"/><line style=\"stroke:#A80036;stroke-width:1.5;\" x1=\"395\" x2=\"582.5\" y1=\"852.0161\" y2=\"852.0161\"/><line style=\"stroke:#A80036;stroke-width:1.5;\" x1=\"582.5\" x2=\"582.5\" y1=\"852.0161\" y2=\"893.4185\"/><polygon fill=\"#A80036\" points=\"578.5,883.4185,582.5,893.4185,586.5,883.4185,582.5,887.4185\" style=\"stroke:#A80036;stroke-width:1.0;\"/><line style=\"stroke:#A80036;stroke-width:1.5;\" x1=\"582.5\" x2=\"582.5\" y1=\"927.3872\" y2=\"950.7896\"/><polygon fill=\"#A80036\" points=\"578.5,940.7896,582.5,950.7896,586.5,940.7896,582.5,944.7896\" style=\"stroke:#A80036;stroke-width:1.0;\"/><line style=\"stroke:#A80036;stroke-width:1.5;\" x1=\"156\" x2=\"582.5\" y1=\"950.7896\" y2=\"950.7896\"/><line style=\"stroke:#A80036;stroke-width:1.5;\" x1=\"375\" x2=\"375\" y1=\"950.7896\" y2=\"970.7896\"/><polygon fill=\"#A80036\" points=\"371,960.7896,375,970.7896,379,960.7896,375,964.7896\" style=\"stroke:#A80036;stroke-width:1.0;\"/><!--MD5=[c8f977febb32c12d5ca12e6d6b172b54]\n",
       "@startuml\n",
       "Title Algorytm przycinania zdjecia\n",
       "\n",
       "start\n",
       ":W konstruktorze okna Edit ustawiamy metody dla Typu GraphicsView:\n",
       "- - - -\n",
       "ui->graphicsView->setScene(scene) - ustawienie sceny dla ui\n",
       "ui->graphicsView->setMinimumHeight(imageObject->height())\n",
       "ui->graphicsView->setMinimumWidth(imageObject->width())\n",
       "ui->graphicsView->setMaximumHeight(imageObject->height())\n",
       "ui->graphicsView->setMaximumWidth(imageObject->width())\n",
       "ui->graphicsView->setDragMode(QGraphicsView::RubberBandDrag) - możliwość zaznaczania obszaru;\n",
       ":mousepressEvent;\n",
       "repeat :mousemoveEvent;\n",
       "note left: Wywoływanie slotu dopóki lewy przycisk myszy nie zostanie puszczony a wymiary RubberBanda zmieniają się\n",
       ":_rubberBandChanged(const QRect &viewportRect);\n",
       "if(change) then (true)\n",
       ":change = false;\n",
       "else (false)\n",
       ":change = true;\n",
       "endif\n",
       "\n",
       "backward: arr[change] = viewportRect;\n",
       "repeat while (viewportRect.isNull()) is (no)\n",
       "->yes - puszczenie lewego przycisku myszy;\n",
       ":change = !change;\n",
       ":QPixmap cropped = image.copy(arr[change]);\n",
       ":auto crops = new Cropped_Image(cropped, this);\n",
       ":crops->exec();\n",
       "note right: wywołanie nowego okna dialogowego;\n",
       "if(Save Image) then (clicked())\n",
       ":zapisanie wycinka zdjęcia;\n",
       "elseif(Cancel) then (clicked())\n",
       ":zamknięcie okna z wycinkiem;\n",
       "else(zamkniecie \"x\")\n",
       ":zamknięcie okna z wycinkiem;\n",
       "endif\n",
       "stop\n",
       "@enduml\n",
       "\n",
       "PlantUML version 1.2021.2beta2(Unknown compile time)\n",
       "(GPL source distribution)\n",
       "Java Runtime: Java(TM) SE Runtime Environment\n",
       "JVM: Java HotSpot(TM) 64-Bit Server VM\n",
       "Default Encoding: UTF-8\n",
       "Language: en\n",
       "Country: US\n",
       "--></g></svg>"
      ],
      "text/plain": [
       "<IPython.core.display.SVG object>"
      ]
     },
     "execution_count": 3,
     "metadata": {},
     "output_type": "execute_result"
    }
   ],
   "source": [
    "%%plantuml\n",
    "@startuml\n",
    "Title Algorytm przycinania zdjecia\n",
    "\n",
    "start\n",
    ":W konstruktorze okna Edit ustawiamy metody dla Typu GraphicsView:\n",
    "----\n",
    "ui->graphicsView->setScene(scene) - ustawienie sceny dla ui\n",
    "ui->graphicsView->setMinimumHeight(imageObject->height())\n",
    "ui->graphicsView->setMinimumWidth(imageObject->width())\n",
    "ui->graphicsView->setMaximumHeight(imageObject->height())\n",
    "ui->graphicsView->setMaximumWidth(imageObject->width())\n",
    "ui->graphicsView->setDragMode(QGraphicsView::RubberBandDrag) - możliwość zaznaczania obszaru;\n",
    ":mousepressEvent;\n",
    "repeat :mousemoveEvent;\n",
    "note left: Wywoływanie slotu dopóki lewy przycisk myszy nie zostanie puszczony a wymiary RubberBanda zmieniają się\n",
    ":_rubberBandChanged(const QRect &viewportRect);\n",
    "if(change) then (true)\n",
    ":change = false;\n",
    "else (false)\n",
    ":change = true;\n",
    "endif\n",
    "\n",
    "backward: arr[change] = viewportRect;\n",
    "repeat while (viewportRect.isNull()) is (no)\n",
    "->yes - puszczenie lewego przycisku myszy;\n",
    ":change = !change;\n",
    ":QPixmap cropped = image.copy(arr[change]);\n",
    ":auto crops = new Cropped_Image(cropped, this);\n",
    ":crops->exec();\n",
    "note right: wywołanie nowego okna dialogowego;\n",
    "if(Save Image) then (clicked())\n",
    ":zapisanie wycinka zdjęcia;\n",
    "elseif(Cancel) then (clicked())\n",
    ":zamknięcie okna z wycinkiem;\n",
    "else(zamkniecie \"x\")\n",
    ":zamknięcie okna z wycinkiem;\n",
    "endif\n",
    "stop\n",
    "@enduml"
   ]
  },
  {
   "cell_type": "markdown",
   "metadata": {},
   "source": [
    "#### Build the code"
   ]
  },
  {
   "cell_type": "code",
   "execution_count": 3,
   "metadata": {},
   "outputs": [],
   "source": [
    "! rm -rf build-Project"
   ]
  },
  {
   "cell_type": "code",
   "execution_count": 9,
   "metadata": {},
   "outputs": [
    {
     "name": "stdout",
     "output_type": "stream",
     "text": [
      "mkdir: cannot create directory ‘build-Project’: File exists\r\n"
     ]
    }
   ],
   "source": [
    "! mkdir build-Project"
   ]
  },
  {
   "cell_type": "code",
   "execution_count": 10,
   "metadata": {},
   "outputs": [
    {
     "name": "stdout",
     "output_type": "stream",
     "text": [
      "RCC: Warning: No resources in '../Project/Album.qrc'.\r\n"
     ]
    }
   ],
   "source": [
    "! cd build-Project && qmake ../Project"
   ]
  },
  {
   "cell_type": "code",
   "execution_count": 11,
   "metadata": {},
   "outputs": [
    {
     "name": "stdout",
     "output_type": "stream",
     "text": [
      "make: Nothing to be done for 'first'.\r\n"
     ]
    }
   ],
   "source": [
    "! cd build-Project && make -j4"
   ]
  },
  {
   "cell_type": "code",
   "execution_count": 12,
   "metadata": {},
   "outputs": [
    {
     "name": "stdout",
     "output_type": "stream",
     "text": [
      "QStandardPaths: XDG_RUNTIME_DIR not set, defaulting to '/tmp/runtime-student'\r\n"
     ]
    }
   ],
   "source": [
    "! build-Project/Project"
   ]
  },
  {
   "cell_type": "markdown",
   "metadata": {},
   "source": [
    "Stop above cell or close the window."
   ]
  }
 ],
 "metadata": {
  "kernelspec": {
   "display_name": "Python 3",
   "language": "python",
   "name": "python3"
  },
  "language_info": {
   "codemirror_mode": {
    "name": "ipython",
    "version": 3
   },
   "file_extension": ".py",
   "mimetype": "text/x-python",
   "name": "python",
   "nbconvert_exporter": "python",
   "pygments_lexer": "ipython3",
   "version": "3.8.3"
  }
 },
 "nbformat": 4,
 "nbformat_minor": 4
}
