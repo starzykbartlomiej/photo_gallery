{
 "cells": [
  {
   "cell_type": "markdown",
   "metadata": {},
   "source": [
    "# OOP 2020"
   ]
  },
  {
   "cell_type": "markdown",
   "metadata": {},
   "source": [
    "#### Links"
   ]
  },
  {
   "cell_type": "markdown",
   "metadata": {},
   "source": [
    "#### Edit the code"
   ]
  },
  {
   "cell_type": "code",
   "execution_count": null,
   "metadata": {},
   "outputs": [
    {
     "name": "stdout",
     "output_type": "stream",
     "text": [
      "QStandardPaths: XDG_RUNTIME_DIR not set, defaulting to '/tmp/runtime-student'\n",
      "Info: creating stash file /home/student/oop_2020_galeria_zdjec/galeria_zdjec/build-Project-Desktop-Debug/.qmake.stash\n",
      "\"ClangCodeModelConnectionClient\" LocalSocket Error: \"QLocalSocket: Remote closed\"\n",
      "2021-02-02T00:01:15 Clang Code Model: Error: The clangbackend process has finished unexpectedly and was restarted.\n",
      "Error in ClangCodeModelServer::documentsClosed: Document '/home/student/oop_2020_galeria_zdjec/galeria_zdjec/build-Project-Desktop-Debug/moc_mainwindow.cpp' does not exists!\n",
      "\"ClangCodeModelConnectionClient\" LocalSocket Error: \"QLocalSocket: Remote closed\"\n",
      "2021-02-02T00:01:15 Clang Code Model: Error: The clangbackend process has finished unexpectedly and was restarted.\n",
      "Error in ClangCodeModelServer::documentsClosed: Document '/home/student/oop_2020_galeria_zdjec/galeria_zdjec/build-Project-Desktop-Debug/moc_mainwindow.cpp' does not exists!\n",
      "\"ClangCodeModelConnectionClient\" LocalSocket Error: \"QLocalSocket: Remote closed\"\n",
      "2021-02-02T00:01:16 Clang Code Model: Error: The clangbackend process has finished unexpectedly and was restarted.\n",
      "Error in ClangCodeModelServer::documentsClosed: Document '/home/student/oop_2020_galeria_zdjec/galeria_zdjec/build-Project-Desktop-Debug/moc_mainwindow.cpp' does not exists!\n",
      "\"ClangCodeModelConnectionClient\" LocalSocket Error: \"QLocalSocket: Remote closed\"\n",
      "2021-02-02T00:01:16 Clang Code Model: Error: The clangbackend process has finished unexpectedly and was restarted.\n",
      "Error in ClangCodeModelServer::documentsClosed: Document '/home/student/oop_2020_galeria_zdjec/galeria_zdjec/build-Project-Desktop-Debug/moc_mainwindow.cpp' does not exists!\n",
      "\"ClangCodeModelConnectionClient\" LocalSocket Error: \"QLocalSocket: Remote closed\"\n",
      "2021-02-02T00:01:17 Clang Code Model: Error: The clangbackend process has finished unexpectedly and was restarted.\n",
      "Error in ClangCodeModelServer::documentsClosed: Document '/home/student/oop_2020_galeria_zdjec/galeria_zdjec/build-Project-Desktop-Debug/moc_mainwindow.cpp' does not exists!\n",
      "\"ClangCodeModelConnectionClient\" LocalSocket Error: \"QLocalSocket: Remote closed\"\n",
      "2021-02-02T00:01:17 Clang Code Model: Error: The clangbackend process has finished unexpectedly and was restarted.\n",
      "Error in ClangCodeModelServer::documentsClosed: Document '/home/student/oop_2020_galeria_zdjec/galeria_zdjec/build-Project-Desktop-Debug/moc_mainwindow.cpp' does not exists!\n",
      "\"ClangCodeModelConnectionClient\" LocalSocket Error: \"QLocalSocket: Remote closed\"\n",
      "2021-02-02T00:01:18 Clang Code Model: Error: The clangbackend process has finished unexpectedly and was restarted.\n",
      "Error in ClangCodeModelServer::documentsClosed: Document '/home/student/oop_2020_galeria_zdjec/galeria_zdjec/build-Project-Desktop-Debug/moc_mainwindow.cpp' does not exists!\n",
      "\"ClangCodeModelConnectionClient\" LocalSocket Error: \"QLocalSocket: Remote closed\"\n",
      "2021-02-02T00:01:18 Clang Code Model: Error: The clangbackend process has finished unexpectedly and was restarted.\n",
      "Error in ClangCodeModelServer::documentsClosed: Document '/home/student/oop_2020_galeria_zdjec/galeria_zdjec/build-Project-Desktop-Debug/moc_mainwindow.cpp' does not exists!\n",
      "\"ClangCodeModelConnectionClient\" LocalSocket Error: \"QLocalSocket: Remote closed\"\n",
      "2021-02-02T00:01:19 Clang Code Model: Error: The clangbackend process has finished unexpectedly and was restarted.\n",
      "Error in ClangCodeModelServer::documentsClosed: Document '/home/student/oop_2020_galeria_zdjec/galeria_zdjec/build-Project-Desktop-Debug/moc_mainwindow.cpp' does not exists!\n",
      "\"ClangCodeModelConnectionClient\" LocalSocket Error: \"QLocalSocket: Remote closed\"\n",
      "2021-02-02T00:01:19 Clang Code Model: Error: The clangbackend process has finished unexpectedly and was restarted.\n",
      "Error in ClangCodeModelServer::documentsClosed: Document '/home/student/oop_2020_galeria_zdjec/galeria_zdjec/build-Project-Desktop-Debug/moc_mainwindow.cpp' does not exists!\n",
      "\"ClangCodeModelConnectionClient\" LocalSocket Error: \"QLocalSocket: Remote closed\"\n",
      "2021-02-02T00:01:20 Clang Code Model: Error: The clangbackend process has finished unexpectedly and was restarted.\n",
      "Error in ClangCodeModelServer::documentsClosed: Document '/home/student/oop_2020_galeria_zdjec/galeria_zdjec/build-Project-Desktop-Debug/moc_mainwindow.cpp' does not exists!\n",
      "\"ClangCodeModelConnectionClient\" LocalSocket Error: \"QLocalSocket: Remote closed\"\n",
      "2021-02-02T00:01:20 Clang Code Model: Error: The clangbackend process has finished unexpectedly and was restarted.\n",
      "Error in ClangCodeModelServer::documentsClosed: Document '/home/student/oop_2020_galeria_zdjec/galeria_zdjec/build-Project-Desktop-Debug/moc_mainwindow.cpp' does not exists!\n",
      "\"ClangCodeModelConnectionClient\" LocalSocket Error: \"QLocalSocket: Remote closed\"\n",
      "2021-02-02T00:01:21 Clang Code Model: Error: The clangbackend process has finished unexpectedly and was restarted.\n",
      "Error in ClangCodeModelServer::documentsClosed: Document '/home/student/oop_2020_galeria_zdjec/galeria_zdjec/build-Project-Desktop-Debug/moc_mainwindow.cpp' does not exists!\n",
      "\"ClangCodeModelConnectionClient\" LocalSocket Error: \"QLocalSocket: Remote closed\"\n",
      "2021-02-02T00:01:21 Clang Code Model: Error: The clangbackend process has finished unexpectedly and was restarted.\n",
      "Error in ClangCodeModelServer::documentsClosed: Document '/home/student/oop_2020_galeria_zdjec/galeria_zdjec/build-Project-Desktop-Debug/moc_mainwindow.cpp' does not exists!\n",
      "\"ClangCodeModelConnectionClient\" LocalSocket Error: \"QLocalSocket: Remote closed\"\n",
      "2021-02-02T00:01:22 Clang Code Model: Error: The clangbackend process has finished unexpectedly and was restarted.\n",
      "Error in ClangCodeModelServer::documentsClosed: Document '/home/student/oop_2020_galeria_zdjec/galeria_zdjec/build-Project-Desktop-Debug/moc_mainwindow.cpp' does not exists!\n",
      "\"ClangCodeModelConnectionClient\" LocalSocket Error: \"QLocalSocket: Remote closed\"\n",
      "2021-02-02T00:01:22 Clang Code Model: Error: The clangbackend process has finished unexpectedly and was restarted.\n",
      "Error in ClangCodeModelServer::documentsClosed: Document '/home/student/oop_2020_galeria_zdjec/galeria_zdjec/build-Project-Desktop-Debug/moc_mainwindow.cpp' does not exists!\n",
      "\"ClangCodeModelConnectionClient\" LocalSocket Error: \"QLocalSocket: Remote closed\"\n",
      "2021-02-02T00:01:23 Clang Code Model: Error: The clangbackend process has finished unexpectedly and was restarted.\n",
      "Error in ClangCodeModelServer::documentsClosed: Document '/home/student/oop_2020_galeria_zdjec/galeria_zdjec/build-Project-Desktop-Debug/moc_mainwindow.cpp' does not exists!\n",
      "\"ClangCodeModelConnectionClient\" LocalSocket Error: \"QLocalSocket: Remote closed\"\n",
      "2021-02-02T00:01:23 Clang Code Model: Error: The clangbackend process has finished unexpectedly and was restarted.\n",
      "Error in ClangCodeModelServer::documentsClosed: Document '/home/student/oop_2020_galeria_zdjec/galeria_zdjec/build-Project-Desktop-Debug/moc_mainwindow.cpp' does not exists!\n",
      "\"ClangCodeModelConnectionClient\" LocalSocket Error: \"QLocalSocket: Remote closed\"\n",
      "2021-02-02T00:01:24 Clang Code Model: Error: The clangbackend process has finished unexpectedly and was restarted.\n",
      "Error in ClangCodeModelServer::documentsClosed: Document '/home/student/oop_2020_galeria_zdjec/galeria_zdjec/build-Project-Desktop-Debug/moc_mainwindow.cpp' does not exists!\n",
      "\"ClangCodeModelConnectionClient\" LocalSocket Error: \"QLocalSocket: Remote closed\"\n",
      "2021-02-02T00:01:24 Clang Code Model: Error: The clangbackend process has finished unexpectedly and was restarted.\n",
      "Error in ClangCodeModelServer::documentsClosed: Document '/home/student/oop_2020_galeria_zdjec/galeria_zdjec/build-Project-Desktop-Debug/moc_mainwindow.cpp' does not exists!\n",
      "\"ClangCodeModelConnectionClient\" LocalSocket Error: \"QLocalSocket: Remote closed\"\n",
      "2021-02-02T00:01:25 Clang Code Model: Error: The clangbackend process has finished unexpectedly and was restarted.\n",
      "Error in ClangCodeModelServer::documentsClosed: Document '/home/student/oop_2020_galeria_zdjec/galeria_zdjec/build-Project-Desktop-Debug/moc_mainwindow.cpp' does not exists!\n",
      "\"ClangCodeModelConnectionClient\" LocalSocket Error: \"QLocalSocket: Remote closed\"\n",
      "2021-02-02T00:01:26 Clang Code Model: Error: The clangbackend process has finished unexpectedly and was restarted.\n",
      "Error in ClangCodeModelServer::documentsClosed: Document '/home/student/oop_2020_galeria_zdjec/galeria_zdjec/build-Project-Desktop-Debug/moc_mainwindow.cpp' does not exists!\n"
     ]
    },
    {
     "name": "stdout",
     "output_type": "stream",
     "text": [
      "\"ClangCodeModelConnectionClient\" LocalSocket Error: \"QLocalSocket: Remote closed\"\n",
      "2021-02-02T00:01:26 Clang Code Model: Error: The clangbackend process has finished unexpectedly and was restarted.\n",
      "Error in ClangCodeModelServer::documentsClosed: Document '/home/student/oop_2020_galeria_zdjec/galeria_zdjec/build-Project-Desktop-Debug/moc_mainwindow.cpp' does not exists!\n",
      "\"ClangCodeModelConnectionClient\" LocalSocket Error: \"QLocalSocket: Remote closed\"\n",
      "2021-02-02T00:01:27 Clang Code Model: Error: The clangbackend process has finished unexpectedly and was restarted.\n",
      "Error in ClangCodeModelServer::documentsClosed: Document '/home/student/oop_2020_galeria_zdjec/galeria_zdjec/build-Project-Desktop-Debug/moc_mainwindow.cpp' does not exists!\n",
      "\"ClangCodeModelConnectionClient\" LocalSocket Error: \"QLocalSocket: Remote closed\"\n",
      "2021-02-02T00:01:27 Clang Code Model: Error: The clangbackend process has finished unexpectedly and was restarted.\n",
      "Error in ClangCodeModelServer::documentsClosed: Document '/home/student/oop_2020_galeria_zdjec/galeria_zdjec/build-Project-Desktop-Debug/moc_mainwindow.cpp' does not exists!\n",
      "Error in ClangCodeModelServer::documentsChanged: Document '/home/student/oop_2020_galeria_zdjec/galeria_zdjec/build-Project-Desktop-Debug/moc_mainwindow.cpp' does not exists!\n",
      "qt.qpa.xcb: QXcbConnection: XCB error: 3 (BadWindow), sequence: 24031, resource id: 14728958, major code: 40 (TranslateCoords), minor code: 0\n",
      "Could not find mark 0x563de1524700 on line 492\n",
      "SOFT ASSERT: \"ok\" in file /build/qtcreator-g7p58A/qtcreator-4.11.0/src/tools/clangbackend/source/codecompleter.cpp, line 162\n",
      "SOFT ASSERT: \"ok\" in file /build/qtcreator-g7p58A/qtcreator-4.11.0/src/tools/clangbackend/source/codecompleter.cpp, line 162\n",
      "SOFT ASSERT: \"ok\" in file /build/qtcreator-g7p58A/qtcreator-4.11.0/src/tools/clangbackend/source/codecompleter.cpp, line 162\n"
     ]
    }
   ],
   "source": [
    "! qtcreator"
   ]
  },
  {
   "cell_type": "markdown",
   "metadata": {},
   "source": [
    "#### Uml diagram"
   ]
  },
  {
   "cell_type": "code",
   "execution_count": 1,
   "metadata": {},
   "outputs": [],
   "source": [
    "import iplantuml"
   ]
  },
  {
   "cell_type": "code",
   "execution_count": 2,
   "metadata": {},
   "outputs": [
    {
     "data": {
      "image/svg+xml": [
       "<svg xmlns=\"http://www.w3.org/2000/svg\" xmlns:xlink=\"http://www.w3.org/1999/xlink\" contentScriptType=\"application/ecmascript\" contentStyleType=\"text/css\" height=\"207px\" preserveAspectRatio=\"none\" style=\"width:593px;height:207px;\" version=\"1.1\" viewBox=\"0 0 593 207\" width=\"593px\" zoomAndPan=\"magnify\"><defs><filter height=\"300%\" id=\"fq04f20xc4p05\" width=\"300%\" x=\"-1\" y=\"-1\"><feGaussianBlur result=\"blurOut\" stdDeviation=\"2.0\"/><feColorMatrix in=\"blurOut\" result=\"blurOut2\" type=\"matrix\" values=\"0 0 0 0 0 0 0 0 0 0 0 0 0 0 0 0 0 0 .4 0\"/><feOffset dx=\"4.0\" dy=\"4.0\" in=\"blurOut2\" result=\"blurOut3\"/><feBlend in=\"SourceGraphic\" in2=\"blurOut3\" mode=\"normal\"/></filter></defs><g><ellipse cx=\"109.5\" cy=\"16\" fill=\"#000000\" filter=\"url(#fq04f20xc4p05)\" rx=\"10\" ry=\"10\" style=\"stroke:none;stroke-width:1.0;\"/><g id=\"Startup\"><rect fill=\"#FEFECE\" filter=\"url(#fq04f20xc4p05)\" height=\"106.1406\" rx=\"12.5\" ry=\"12.5\" style=\"stroke:#A80036;stroke-width:1.5;\" width=\"205\" x=\"7\" y=\"87\"/><line style=\"stroke:#A80036;stroke-width:1.5;\" x1=\"7\" x2=\"212\" y1=\"113.2969\" y2=\"113.2969\"/><text fill=\"#000000\" font-family=\"sans-serif\" font-size=\"14\" lengthAdjust=\"spacing\" textLength=\"55\" x=\"82\" y=\"104.9951\">Startup</text><text fill=\"#000000\" font-family=\"sans-serif\" font-size=\"12\" font-weight=\"bold\" lengthAdjust=\"spacing\" textLength=\"45\" x=\"12\" y=\"129.4355\">pbExit</text><text fill=\"#000000\" font-family=\"sans-serif\" font-size=\"12\" lengthAdjust=\"spacing\" textLength=\"49\" x=\"61\" y=\"129.4355\">enabled</text><text fill=\"#000000\" font-family=\"sans-serif\" font-size=\"12\" font-weight=\"bold\" lengthAdjust=\"spacing\" textLength=\"37\" x=\"114\" y=\"129.4355\">false</text><text fill=\"#000000\" font-family=\"sans-serif\" font-size=\"12\" font-weight=\"bold\" lengthAdjust=\"spacing\" textLength=\"52\" x=\"12\" y=\"143.4043\">pbBack</text><text fill=\"#000000\" font-family=\"sans-serif\" font-size=\"12\" lengthAdjust=\"spacing\" textLength=\"49\" x=\"68\" y=\"143.4043\">enabled</text><text fill=\"#000000\" font-family=\"sans-serif\" font-size=\"12\" font-weight=\"bold\" lengthAdjust=\"spacing\" textLength=\"37\" x=\"121\" y=\"143.4043\">false</text><text fill=\"#000000\" font-family=\"sans-serif\" font-size=\"12\" font-weight=\"bold\" lengthAdjust=\"spacing\" textLength=\"91\" x=\"12\" y=\"157.373\">pbSlideShow</text><text fill=\"#000000\" font-family=\"sans-serif\" font-size=\"12\" lengthAdjust=\"spacing\" textLength=\"49\" x=\"107\" y=\"157.373\">enabled</text><text fill=\"#000000\" font-family=\"sans-serif\" font-size=\"12\" font-weight=\"bold\" lengthAdjust=\"spacing\" textLength=\"37\" x=\"160\" y=\"157.373\">false</text><text fill=\"#000000\" font-family=\"sans-serif\" font-size=\"12\" font-weight=\"bold\" lengthAdjust=\"spacing\" textLength=\"52\" x=\"12\" y=\"171.3418\">pbNext</text><text fill=\"#000000\" font-family=\"sans-serif\" font-size=\"12\" lengthAdjust=\"spacing\" textLength=\"49\" x=\"68\" y=\"171.3418\">enabled</text><text fill=\"#000000\" font-family=\"sans-serif\" font-size=\"12\" font-weight=\"bold\" lengthAdjust=\"spacing\" textLength=\"37\" x=\"121\" y=\"171.3418\">false</text><text fill=\"#000000\" font-family=\"sans-serif\" font-size=\"12\" font-weight=\"bold\" lengthAdjust=\"spacing\" textLength=\"68\" x=\"12\" y=\"185.3105\">pbRotate</text><text fill=\"#000000\" font-family=\"sans-serif\" font-size=\"12\" lengthAdjust=\"spacing\" textLength=\"49\" x=\"84\" y=\"185.3105\">enabled</text><text fill=\"#000000\" font-family=\"sans-serif\" font-size=\"12\" font-weight=\"bold\" lengthAdjust=\"spacing\" textLength=\"37\" x=\"137\" y=\"185.3105\">false</text></g><g id=\"Open\"><rect fill=\"#FEFECE\" filter=\"url(#fq04f20xc4p05)\" height=\"106.1406\" rx=\"12.5\" ry=\"12.5\" style=\"stroke:#A80036;stroke-width:1.5;\" width=\"200\" x=\"379.5\" y=\"87\"/><line style=\"stroke:#A80036;stroke-width:1.5;\" x1=\"379.5\" x2=\"579.5\" y1=\"113.2969\" y2=\"113.2969\"/><text fill=\"#000000\" font-family=\"sans-serif\" font-size=\"14\" lengthAdjust=\"spacing\" textLength=\"39\" x=\"460\" y=\"104.9951\">Open</text><text fill=\"#000000\" font-family=\"sans-serif\" font-size=\"12\" font-weight=\"bold\" lengthAdjust=\"spacing\" textLength=\"45\" x=\"384.5\" y=\"129.4355\">pbExit</text><text fill=\"#000000\" font-family=\"sans-serif\" font-size=\"12\" lengthAdjust=\"spacing\" textLength=\"49\" x=\"433.5\" y=\"129.4355\">enabled</text><text fill=\"#000000\" font-family=\"sans-serif\" font-size=\"12\" font-weight=\"bold\" lengthAdjust=\"spacing\" textLength=\"32\" x=\"486.5\" y=\"129.4355\">true</text><text fill=\"#000000\" font-family=\"sans-serif\" font-size=\"12\" font-weight=\"bold\" lengthAdjust=\"spacing\" textLength=\"52\" x=\"384.5\" y=\"143.4043\">pbBack</text><text fill=\"#000000\" font-family=\"sans-serif\" font-size=\"12\" lengthAdjust=\"spacing\" textLength=\"49\" x=\"440.5\" y=\"143.4043\">enabled</text><text fill=\"#000000\" font-family=\"sans-serif\" font-size=\"12\" font-weight=\"bold\" lengthAdjust=\"spacing\" textLength=\"32\" x=\"493.5\" y=\"143.4043\">true</text><text fill=\"#000000\" font-family=\"sans-serif\" font-size=\"12\" font-weight=\"bold\" lengthAdjust=\"spacing\" textLength=\"91\" x=\"384.5\" y=\"157.373\">pbSlideShow</text><text fill=\"#000000\" font-family=\"sans-serif\" font-size=\"12\" lengthAdjust=\"spacing\" textLength=\"49\" x=\"479.5\" y=\"157.373\">enabled</text><text fill=\"#000000\" font-family=\"sans-serif\" font-size=\"12\" font-weight=\"bold\" lengthAdjust=\"spacing\" textLength=\"32\" x=\"532.5\" y=\"157.373\">true</text><text fill=\"#000000\" font-family=\"sans-serif\" font-size=\"12\" font-weight=\"bold\" lengthAdjust=\"spacing\" textLength=\"52\" x=\"384.5\" y=\"171.3418\">pbNext</text><text fill=\"#000000\" font-family=\"sans-serif\" font-size=\"12\" lengthAdjust=\"spacing\" textLength=\"49\" x=\"440.5\" y=\"171.3418\">enabled</text><text fill=\"#000000\" font-family=\"sans-serif\" font-size=\"12\" font-weight=\"bold\" lengthAdjust=\"spacing\" textLength=\"32\" x=\"493.5\" y=\"171.3418\">true</text><text fill=\"#000000\" font-family=\"sans-serif\" font-size=\"12\" font-weight=\"bold\" lengthAdjust=\"spacing\" textLength=\"68\" x=\"384.5\" y=\"185.3105\">pbRotate</text><text fill=\"#000000\" font-family=\"sans-serif\" font-size=\"12\" lengthAdjust=\"spacing\" textLength=\"49\" x=\"456.5\" y=\"185.3105\">enabled</text><text fill=\"#000000\" font-family=\"sans-serif\" font-size=\"12\" font-weight=\"bold\" lengthAdjust=\"spacing\" textLength=\"32\" x=\"509.5\" y=\"185.3105\">true</text></g><!--MD5=[a50b244c970d250df4d252e30ec8ebd5]\n",
       "link *start to Startup--><path d=\"M109.5,26.17 C109.5,38.175 109.5,60.22 109.5,81.66 \" fill=\"none\" id=\"*start-to-Startup\" style=\"stroke:#A80036;stroke-width:1.0;\"/><polygon fill=\"#A80036\" points=\"109.5,86.799,113.5,77.799,109.5,81.799,105.5,77.799,109.5,86.799\" style=\"stroke:#A80036;stroke-width:1.0;\"/><!--MD5=[e79221595f9032ff3a99fc62ef59da71]\n",
       "link Startup to Open--><path d=\"M212.122,158.1739 C218.243,158.8919 224.32,159.5122 230.25,160 C288.276,164.773 303.232,164.8718 361.25,160 C365.5,159.6431 369.827,159.2153 374.192,158.7302 \" fill=\"none\" id=\"Startup-to-Open\" style=\"stroke:#A80036;stroke-width:1.0;\"/><polygon fill=\"#A80036\" points=\"379.33,158.1352,369.9293,155.1981,374.3633,158.7109,370.8504,163.1449,379.33,158.1352\" style=\"stroke:#A80036;stroke-width:1.0;\"/><text fill=\"#000000\" font-family=\"sans-serif\" font-size=\"13\" font-weight=\"bold\" lengthAdjust=\"spacing\" textLength=\"45\" x=\"231.25\" y=\"156.0669\">image</text><text fill=\"#000000\" font-family=\"sans-serif\" font-size=\"13\" lengthAdjust=\"spacing\" textLength=\"80\" x=\"280.25\" y=\"156.0669\">clicked(bool)</text><!--MD5=[2ac6970a70fb3db941fa5ffb3f38b230]\n",
       "link Open to Startup--><path d=\"M379.285,140 C329.161,140 268.441,140 217.308,140 \" fill=\"none\" id=\"Open-to-Startup\" style=\"stroke:#A80036;stroke-width:1.0;\"/><polygon fill=\"#A80036\" points=\"212.074,140,221.074,144,217.074,140,221.074,136,212.074,140\" style=\"stroke:#A80036;stroke-width:1.0;\"/><text fill=\"#000000\" font-family=\"sans-serif\" font-size=\"13\" font-weight=\"bold\" lengthAdjust=\"spacing\" textLength=\"47\" x=\"230.25\" y=\"133.0669\">pbExit</text><text fill=\"#000000\" font-family=\"sans-serif\" font-size=\"13\" lengthAdjust=\"spacing\" textLength=\"80\" x=\"281.25\" y=\"133.0669\">clicked(bool)</text><!--MD5=[47e12465aa070dbb412883d733fb01c5]\n",
       "@startuml\n",
       "[*] - -> Startup\n",
       "Startup : **pbExit** enabled **false**\n",
       "Startup : **pbBack** enabled **false**\n",
       "Startup : **pbSlideShow** enabled **false**\n",
       "Startup : **pbNext** enabled **false**\n",
       "Startup : **pbRotate** enabled **false**\n",
       "\n",
       "Startup -down> Open : **image** clicked(bool)\n",
       "Open -down> Startup : **pbExit** clicked(bool)\n",
       "\n",
       "Open : **pbExit** enabled **true**\n",
       "Open : **pbBack** enabled **true**\n",
       "Open : **pbSlideShow** enabled **true**\n",
       "Open : **pbNext** enabled **true**\n",
       "Open : **pbRotate** enabled **true**\n",
       "@enduml\n",
       "\n",
       "PlantUML version 1.2021.01beta7(Unknown compile time)\n",
       "(GPL source distribution)\n",
       "Java Runtime: Java(TM) SE Runtime Environment\n",
       "JVM: Java HotSpot(TM) 64-Bit Server VM\n",
       "Default Encoding: UTF-8\n",
       "Language: en\n",
       "Country: US\n",
       "--></g></svg>"
      ],
      "text/plain": [
       "<IPython.core.display.SVG object>"
      ]
     },
     "execution_count": 2,
     "metadata": {},
     "output_type": "execute_result"
    }
   ],
   "source": [
    "%%plantuml\n",
    "\n",
    "@startuml\n",
    "\n",
    "[*] --> Startup\n",
    "Startup : **pbExit** enabled **false**\n",
    "Startup : **pbBack** enabled **false**\n",
    "Startup : **pbSlideShow** enabled **false**\n",
    "Startup : **pbNext** enabled **false**\n",
    "Startup : **pbRotate** enabled **false**\n",
    "\n",
    "Startup -down> Open : **image** clicked(bool)\n",
    "Open -down> Startup : **pbExit** clicked(bool)\n",
    "\n",
    "Open : **pbExit** enabled **true**\n",
    "Open : **pbBack** enabled **true**\n",
    "Open : **pbSlideShow** enabled **true**\n",
    "Open : **pbNext** enabled **true**\n",
    "Open : **pbRotate** enabled **true**\n",
    "    \n",
    "\n",
    "@enduml"
   ]
  },
  {
   "cell_type": "markdown",
   "metadata": {},
   "source": [
    "#### Build the code"
   ]
  },
  {
   "cell_type": "code",
   "execution_count": 3,
   "metadata": {},
   "outputs": [],
   "source": [
    "! rm -rf build-Project"
   ]
  },
  {
   "cell_type": "code",
   "execution_count": 9,
   "metadata": {},
   "outputs": [
    {
     "name": "stdout",
     "output_type": "stream",
     "text": [
      "mkdir: cannot create directory ‘build-Project’: File exists\r\n"
     ]
    }
   ],
   "source": [
    "! mkdir build-Project"
   ]
  },
  {
   "cell_type": "code",
   "execution_count": 10,
   "metadata": {},
   "outputs": [
    {
     "name": "stdout",
     "output_type": "stream",
     "text": [
      "RCC: Warning: No resources in '../Project/Album.qrc'.\r\n"
     ]
    }
   ],
   "source": [
    "! cd build-Project && qmake ../Project"
   ]
  },
  {
   "cell_type": "code",
   "execution_count": 11,
   "metadata": {},
   "outputs": [
    {
     "name": "stdout",
     "output_type": "stream",
     "text": [
      "make: Nothing to be done for 'first'.\r\n"
     ]
    }
   ],
   "source": [
    "! cd build-Project && make -j4"
   ]
  },
  {
   "cell_type": "code",
   "execution_count": 12,
   "metadata": {},
   "outputs": [
    {
     "name": "stdout",
     "output_type": "stream",
     "text": [
      "QStandardPaths: XDG_RUNTIME_DIR not set, defaulting to '/tmp/runtime-student'\r\n"
     ]
    }
   ],
   "source": [
    "! build-Project/Project"
   ]
  },
  {
   "cell_type": "markdown",
   "metadata": {},
   "source": [
    "Stop above cell or close the window."
   ]
  }
 ],
 "metadata": {
  "kernelspec": {
   "display_name": "Python 3",
   "language": "python",
   "name": "python3"
  },
  "language_info": {
   "codemirror_mode": {
    "name": "ipython",
    "version": 3
   },
   "file_extension": ".py",
   "mimetype": "text/x-python",
   "name": "python",
   "nbconvert_exporter": "python",
   "pygments_lexer": "ipython3",
   "version": "3.8.3"
  }
 },
 "nbformat": 4,
 "nbformat_minor": 4
}
